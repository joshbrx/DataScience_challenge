{
  "nbformat": 4,
  "nbformat_minor": 0,
  "metadata": {
    "colab": {
      "provenance": [],
      "authorship_tag": "ABX9TyNAjglzW/mn9qzialjqp3HF",
      "include_colab_link": true
    },
    "kernelspec": {
      "name": "python3",
      "display_name": "Python 3"
    },
    "language_info": {
      "name": "python"
    }
  },
  "cells": [
    {
      "cell_type": "markdown",
      "metadata": {
        "id": "view-in-github",
        "colab_type": "text"
      },
      "source": [
        "<a href=\"https://colab.research.google.com/github/joshbrx/DataScience_challenge/blob/main/Departamentos_en_la_CDMX.ipynb\" target=\"_parent\"><img src=\"https://colab.research.google.com/assets/colab-badge.svg\" alt=\"Open In Colab\"/></a>"
      ]
    },
    {
      "cell_type": "markdown",
      "source": [
        "# ***Pregunta 1***\n",
        "El archivo ``reto_precios.csv`` contiene información sobre precios de departamentos nuevos dentro de la CDMX, junto con diversas características del inmueble.\n",
        "\n",
        "Para esta pregunta,requerimos que nos puedas explicar los factores que influyen en el precio por metro cuadrado de cada vivienda\n",
        "\n",
        "***Hint: Existe información externa que te podría ser útil para resolver esta pregunta*.**\n",
        "\n",
        "\n",
        "\n",
        "---\n",
        "\n"
      ],
      "metadata": {
        "id": "BSc5_OLyZH5e"
      }
    },
    {
      "cell_type": "code",
      "source": [
        "import pandas as pd\n",
        "import numpy as np\n",
        "import keras\n",
        "import re"
      ],
      "metadata": {
        "id": "wU12XXTVZGTJ"
      },
      "execution_count": 1,
      "outputs": []
    },
    {
      "cell_type": "code",
      "execution_count": 2,
      "metadata": {
        "colab": {
          "base_uri": "https://localhost:8080/",
          "height": 698
        },
        "id": "HVVBaABGXlKy",
        "outputId": "64a001d9-34d3-4a94-d152-0fb9eea6b0c4"
      },
      "outputs": [
        {
          "output_type": "execute_result",
          "data": {
            "text/plain": [
              "                                           main_name               subtitle  \\\n",
              "0                          Departamento - Roma Norte  Departamento en venta   \n",
              "1        Preventa Exclusiva · Terraloza Roma Norte ·  Departamento en venta   \n",
              "2                     Townhouse Único En La Roma Sur  Departamento en venta   \n",
              "3  Departamento En Roma Sur, Cuauhtémoc Con 2 Rec...  Departamento en venta   \n",
              "4           Últimos Deptos En Preventa En Roma Norte  Departamento en venta   \n",
              "\n",
              "                                                link  \\\n",
              "0  https://departamento.metroscubicos.com/MLM-139...   \n",
              "1  https://departamento.metroscubicos.com/MLM-139...   \n",
              "2  https://departamento.metroscubicos.com/MLM-139...   \n",
              "3  https://departamento.metroscubicos.com/MLM-132...   \n",
              "4  https://departamento.metroscubicos.com/MLM-137...   \n",
              "\n",
              "                                            location          price  \\\n",
              "0  Sinaloa 20 , Roma Sur, Roma Sur, Cuauhtémoc, D...  9000000 pesos   \n",
              "1   Tonala, Roma Norte, Cuauhtémoc, Distrito Federal  4264000 pesos   \n",
              "2  Tepeji 43, Roma Sur, Ciudad De México, Cdmx, M...  8093500 pesos   \n",
              "3    Linares, Roma Sur, Cuauhtémoc, Distrito Federal  4000000 pesos   \n",
              "4  Frontera, Roma Norte, Cuauhtémoc, Distrito Fed...  6732700 pesos   \n",
              "\n",
              "                   attributes   timestamp  id  \\\n",
              "0  127 m² construidos,2 recs.  2022-03-29   1   \n",
              "1    54 m² construidos,1 rec.  2022-03-29   2   \n",
              "2  163 m² construidos,3 recs.  2022-03-29   3   \n",
              "3   93 m² construidos,2 recs.  2022-03-29   4   \n",
              "4  103 m² construidos,2 recs.  2022-03-29   5   \n",
              "\n",
              "                                             address  \\\n",
              "0                              Sinaloa 20 , Roma Sur   \n",
              "1                                             Tonala   \n",
              "2  Tepeji 43, Roma Sur, Ciudad De México, Cdmx, M...   \n",
              "3                                            Linares   \n",
              "4                                           Frontera   \n",
              "\n",
              "                                 since  ... apartments_per_floor  \\\n",
              "0                Publicado hace 5 días  ...                  NaN   \n",
              "1                Publicado hace 7 días  ...                  NaN   \n",
              "2                Publicado hace 4 días  ...                  NaN   \n",
              "3  Publicado hace 5 meses por {action}  ...                  NaN   \n",
              "4               Publicado hace 52 días  ...                  NaN   \n",
              "\n",
              "    disposition  parking_lots  floor_situated  orientation num_bedrooms  \\\n",
              "0  Contrafrente             2             NaN          NaN          2.0   \n",
              "1           NaN             1             NaN          NaN          1.0   \n",
              "2           NaN             2             NaN          NaN          3.0   \n",
              "3           NaN             1             NaN        Oeste          2.0   \n",
              "4           NaN             1             NaN          NaN          2.0   \n",
              "\n",
              "  department_type     m2  final_price  price_square_meter  \n",
              "0             NaN  127.0    9000000.0        70866.141732  \n",
              "1             NaN   54.0    4264000.0        78962.962963  \n",
              "2             NaN  163.0    8093500.0        49653.374233  \n",
              "3            Loft   93.0    4000000.0        43010.752688  \n",
              "4             NaN  103.0    6732700.0        65366.019417  \n",
              "\n",
              "[5 rows x 35 columns]"
            ],
            "text/html": [
              "\n",
              "  <div id=\"df-4dbe31b5-52aa-4013-ac22-bb6375c873aa\">\n",
              "    <div class=\"colab-df-container\">\n",
              "      <div>\n",
              "<style scoped>\n",
              "    .dataframe tbody tr th:only-of-type {\n",
              "        vertical-align: middle;\n",
              "    }\n",
              "\n",
              "    .dataframe tbody tr th {\n",
              "        vertical-align: top;\n",
              "    }\n",
              "\n",
              "    .dataframe thead th {\n",
              "        text-align: right;\n",
              "    }\n",
              "</style>\n",
              "<table border=\"1\" class=\"dataframe\">\n",
              "  <thead>\n",
              "    <tr style=\"text-align: right;\">\n",
              "      <th></th>\n",
              "      <th>main_name</th>\n",
              "      <th>subtitle</th>\n",
              "      <th>link</th>\n",
              "      <th>location</th>\n",
              "      <th>price</th>\n",
              "      <th>attributes</th>\n",
              "      <th>timestamp</th>\n",
              "      <th>id</th>\n",
              "      <th>address</th>\n",
              "      <th>since</th>\n",
              "      <th>...</th>\n",
              "      <th>apartments_per_floor</th>\n",
              "      <th>disposition</th>\n",
              "      <th>parking_lots</th>\n",
              "      <th>floor_situated</th>\n",
              "      <th>orientation</th>\n",
              "      <th>num_bedrooms</th>\n",
              "      <th>department_type</th>\n",
              "      <th>m2</th>\n",
              "      <th>final_price</th>\n",
              "      <th>price_square_meter</th>\n",
              "    </tr>\n",
              "  </thead>\n",
              "  <tbody>\n",
              "    <tr>\n",
              "      <th>0</th>\n",
              "      <td>Departamento - Roma Norte</td>\n",
              "      <td>Departamento en venta</td>\n",
              "      <td>https://departamento.metroscubicos.com/MLM-139...</td>\n",
              "      <td>Sinaloa 20 , Roma Sur, Roma Sur, Cuauhtémoc, D...</td>\n",
              "      <td>9000000 pesos</td>\n",
              "      <td>127 m² construidos,2 recs.</td>\n",
              "      <td>2022-03-29</td>\n",
              "      <td>1</td>\n",
              "      <td>Sinaloa 20 , Roma Sur</td>\n",
              "      <td>Publicado hace 5 días</td>\n",
              "      <td>...</td>\n",
              "      <td>NaN</td>\n",
              "      <td>Contrafrente</td>\n",
              "      <td>2</td>\n",
              "      <td>NaN</td>\n",
              "      <td>NaN</td>\n",
              "      <td>2.0</td>\n",
              "      <td>NaN</td>\n",
              "      <td>127.0</td>\n",
              "      <td>9000000.0</td>\n",
              "      <td>70866.141732</td>\n",
              "    </tr>\n",
              "    <tr>\n",
              "      <th>1</th>\n",
              "      <td>Preventa Exclusiva · Terraloza Roma Norte ·</td>\n",
              "      <td>Departamento en venta</td>\n",
              "      <td>https://departamento.metroscubicos.com/MLM-139...</td>\n",
              "      <td>Tonala, Roma Norte, Cuauhtémoc, Distrito Federal</td>\n",
              "      <td>4264000 pesos</td>\n",
              "      <td>54 m² construidos,1 rec.</td>\n",
              "      <td>2022-03-29</td>\n",
              "      <td>2</td>\n",
              "      <td>Tonala</td>\n",
              "      <td>Publicado hace 7 días</td>\n",
              "      <td>...</td>\n",
              "      <td>NaN</td>\n",
              "      <td>NaN</td>\n",
              "      <td>1</td>\n",
              "      <td>NaN</td>\n",
              "      <td>NaN</td>\n",
              "      <td>1.0</td>\n",
              "      <td>NaN</td>\n",
              "      <td>54.0</td>\n",
              "      <td>4264000.0</td>\n",
              "      <td>78962.962963</td>\n",
              "    </tr>\n",
              "    <tr>\n",
              "      <th>2</th>\n",
              "      <td>Townhouse Único En La Roma Sur</td>\n",
              "      <td>Departamento en venta</td>\n",
              "      <td>https://departamento.metroscubicos.com/MLM-139...</td>\n",
              "      <td>Tepeji 43, Roma Sur, Ciudad De México, Cdmx, M...</td>\n",
              "      <td>8093500 pesos</td>\n",
              "      <td>163 m² construidos,3 recs.</td>\n",
              "      <td>2022-03-29</td>\n",
              "      <td>3</td>\n",
              "      <td>Tepeji 43, Roma Sur, Ciudad De México, Cdmx, M...</td>\n",
              "      <td>Publicado hace 4 días</td>\n",
              "      <td>...</td>\n",
              "      <td>NaN</td>\n",
              "      <td>NaN</td>\n",
              "      <td>2</td>\n",
              "      <td>NaN</td>\n",
              "      <td>NaN</td>\n",
              "      <td>3.0</td>\n",
              "      <td>NaN</td>\n",
              "      <td>163.0</td>\n",
              "      <td>8093500.0</td>\n",
              "      <td>49653.374233</td>\n",
              "    </tr>\n",
              "    <tr>\n",
              "      <th>3</th>\n",
              "      <td>Departamento En Roma Sur, Cuauhtémoc Con 2 Rec...</td>\n",
              "      <td>Departamento en venta</td>\n",
              "      <td>https://departamento.metroscubicos.com/MLM-132...</td>\n",
              "      <td>Linares, Roma Sur, Cuauhtémoc, Distrito Federal</td>\n",
              "      <td>4000000 pesos</td>\n",
              "      <td>93 m² construidos,2 recs.</td>\n",
              "      <td>2022-03-29</td>\n",
              "      <td>4</td>\n",
              "      <td>Linares</td>\n",
              "      <td>Publicado hace 5 meses por {action}</td>\n",
              "      <td>...</td>\n",
              "      <td>NaN</td>\n",
              "      <td>NaN</td>\n",
              "      <td>1</td>\n",
              "      <td>NaN</td>\n",
              "      <td>Oeste</td>\n",
              "      <td>2.0</td>\n",
              "      <td>Loft</td>\n",
              "      <td>93.0</td>\n",
              "      <td>4000000.0</td>\n",
              "      <td>43010.752688</td>\n",
              "    </tr>\n",
              "    <tr>\n",
              "      <th>4</th>\n",
              "      <td>Últimos Deptos En Preventa En Roma Norte</td>\n",
              "      <td>Departamento en venta</td>\n",
              "      <td>https://departamento.metroscubicos.com/MLM-137...</td>\n",
              "      <td>Frontera, Roma Norte, Cuauhtémoc, Distrito Fed...</td>\n",
              "      <td>6732700 pesos</td>\n",
              "      <td>103 m² construidos,2 recs.</td>\n",
              "      <td>2022-03-29</td>\n",
              "      <td>5</td>\n",
              "      <td>Frontera</td>\n",
              "      <td>Publicado hace 52 días</td>\n",
              "      <td>...</td>\n",
              "      <td>NaN</td>\n",
              "      <td>NaN</td>\n",
              "      <td>1</td>\n",
              "      <td>NaN</td>\n",
              "      <td>NaN</td>\n",
              "      <td>2.0</td>\n",
              "      <td>NaN</td>\n",
              "      <td>103.0</td>\n",
              "      <td>6732700.0</td>\n",
              "      <td>65366.019417</td>\n",
              "    </tr>\n",
              "  </tbody>\n",
              "</table>\n",
              "<p>5 rows × 35 columns</p>\n",
              "</div>\n",
              "      <button class=\"colab-df-convert\" onclick=\"convertToInteractive('df-4dbe31b5-52aa-4013-ac22-bb6375c873aa')\"\n",
              "              title=\"Convert this dataframe to an interactive table.\"\n",
              "              style=\"display:none;\">\n",
              "        \n",
              "  <svg xmlns=\"http://www.w3.org/2000/svg\" height=\"24px\"viewBox=\"0 0 24 24\"\n",
              "       width=\"24px\">\n",
              "    <path d=\"M0 0h24v24H0V0z\" fill=\"none\"/>\n",
              "    <path d=\"M18.56 5.44l.94 2.06.94-2.06 2.06-.94-2.06-.94-.94-2.06-.94 2.06-2.06.94zm-11 1L8.5 8.5l.94-2.06 2.06-.94-2.06-.94L8.5 2.5l-.94 2.06-2.06.94zm10 10l.94 2.06.94-2.06 2.06-.94-2.06-.94-.94-2.06-.94 2.06-2.06.94z\"/><path d=\"M17.41 7.96l-1.37-1.37c-.4-.4-.92-.59-1.43-.59-.52 0-1.04.2-1.43.59L10.3 9.45l-7.72 7.72c-.78.78-.78 2.05 0 2.83L4 21.41c.39.39.9.59 1.41.59.51 0 1.02-.2 1.41-.59l7.78-7.78 2.81-2.81c.8-.78.8-2.07 0-2.86zM5.41 20L4 18.59l7.72-7.72 1.47 1.35L5.41 20z\"/>\n",
              "  </svg>\n",
              "      </button>\n",
              "      \n",
              "  <style>\n",
              "    .colab-df-container {\n",
              "      display:flex;\n",
              "      flex-wrap:wrap;\n",
              "      gap: 12px;\n",
              "    }\n",
              "\n",
              "    .colab-df-convert {\n",
              "      background-color: #E8F0FE;\n",
              "      border: none;\n",
              "      border-radius: 50%;\n",
              "      cursor: pointer;\n",
              "      display: none;\n",
              "      fill: #1967D2;\n",
              "      height: 32px;\n",
              "      padding: 0 0 0 0;\n",
              "      width: 32px;\n",
              "    }\n",
              "\n",
              "    .colab-df-convert:hover {\n",
              "      background-color: #E2EBFA;\n",
              "      box-shadow: 0px 1px 2px rgba(60, 64, 67, 0.3), 0px 1px 3px 1px rgba(60, 64, 67, 0.15);\n",
              "      fill: #174EA6;\n",
              "    }\n",
              "\n",
              "    [theme=dark] .colab-df-convert {\n",
              "      background-color: #3B4455;\n",
              "      fill: #D2E3FC;\n",
              "    }\n",
              "\n",
              "    [theme=dark] .colab-df-convert:hover {\n",
              "      background-color: #434B5C;\n",
              "      box-shadow: 0px 1px 3px 1px rgba(0, 0, 0, 0.15);\n",
              "      filter: drop-shadow(0px 1px 2px rgba(0, 0, 0, 0.3));\n",
              "      fill: #FFFFFF;\n",
              "    }\n",
              "  </style>\n",
              "\n",
              "      <script>\n",
              "        const buttonEl =\n",
              "          document.querySelector('#df-4dbe31b5-52aa-4013-ac22-bb6375c873aa button.colab-df-convert');\n",
              "        buttonEl.style.display =\n",
              "          google.colab.kernel.accessAllowed ? 'block' : 'none';\n",
              "\n",
              "        async function convertToInteractive(key) {\n",
              "          const element = document.querySelector('#df-4dbe31b5-52aa-4013-ac22-bb6375c873aa');\n",
              "          const dataTable =\n",
              "            await google.colab.kernel.invokeFunction('convertToInteractive',\n",
              "                                                     [key], {});\n",
              "          if (!dataTable) return;\n",
              "\n",
              "          const docLinkHtml = 'Like what you see? Visit the ' +\n",
              "            '<a target=\"_blank\" href=https://colab.research.google.com/notebooks/data_table.ipynb>data table notebook</a>'\n",
              "            + ' to learn more about interactive tables.';\n",
              "          element.innerHTML = '';\n",
              "          dataTable['output_type'] = 'display_data';\n",
              "          await google.colab.output.renderOutput(dataTable, element);\n",
              "          const docLink = document.createElement('div');\n",
              "          docLink.innerHTML = docLinkHtml;\n",
              "          element.appendChild(docLink);\n",
              "        }\n",
              "      </script>\n",
              "    </div>\n",
              "  </div>\n",
              "  "
            ]
          },
          "metadata": {},
          "execution_count": 2
        }
      ],
      "source": [
        "url = \"https://raw.githubusercontent.com/joshbrx/DataScience_challenge/main/reto_precios.csv\"\n",
        "df = pd.read_csv(url)\n",
        "df.head()"
      ]
    },
    {
      "cell_type": "markdown",
      "source": [
        "## Análisis exploratorio y limpieza en base de datos\n",
        "\n",
        "Es necesario poder comprender el tipo de datos con el que estamos trabajando para poder realizar posteriormente una limpieza de los mismos."
      ],
      "metadata": {
        "id": "9tvgiXxYclkc"
      }
    },
    {
      "cell_type": "code",
      "source": [
        "# Se define una copia de \"df\" llamada \"data_cdmx\" para poder limpiarla y no modificar la base de datos inicial, ni perder información.\n",
        "data_cdmx = df.copy()"
      ],
      "metadata": {
        "id": "xHl1Pw95f5kw"
      },
      "execution_count": 3,
      "outputs": []
    },
    {
      "cell_type": "code",
      "source": [
        "df.info()\n",
        "# df.describe()"
      ],
      "metadata": {
        "colab": {
          "base_uri": "https://localhost:8080/"
        },
        "id": "KdngJynlb7mr",
        "outputId": "8540d060-86c4-4700-bf20-772516e5de59"
      },
      "execution_count": 4,
      "outputs": [
        {
          "output_type": "stream",
          "name": "stdout",
          "text": [
            "<class 'pandas.core.frame.DataFrame'>\n",
            "RangeIndex: 981 entries, 0 to 980\n",
            "Data columns (total 35 columns):\n",
            " #   Column                Non-Null Count  Dtype  \n",
            "---  ------                --------------  -----  \n",
            " 0   main_name             981 non-null    object \n",
            " 1   subtitle              981 non-null    object \n",
            " 2   link                  981 non-null    object \n",
            " 3   location              981 non-null    object \n",
            " 4   price                 981 non-null    object \n",
            " 5   attributes            981 non-null    object \n",
            " 6   timestamp             981 non-null    object \n",
            " 7   id                    981 non-null    int64  \n",
            " 8   address               702 non-null    object \n",
            " 9   since                 981 non-null    object \n",
            " 10  description           981 non-null    object \n",
            " 11  vendor                981 non-null    object \n",
            " 12  lat                   981 non-null    float64\n",
            " 13  lon                   981 non-null    float64\n",
            " 14  price_mod             981 non-null    float64\n",
            " 15  price_currency        981 non-null    object \n",
            " 16  since_period          981 non-null    object \n",
            " 17  since_value           981 non-null    int64  \n",
            " 18  days_on_site          981 non-null    float64\n",
            " 19  amenities             504 non-null    float64\n",
            " 20  age_in_years          981 non-null    float64\n",
            " 21  bathrooms             981 non-null    float64\n",
            " 22  cellars               52 non-null     float64\n",
            " 23  num_floors            84 non-null     float64\n",
            " 24  monthly_fee           128 non-null    object \n",
            " 25  apartments_per_floor  15 non-null     float64\n",
            " 26  disposition           20 non-null     object \n",
            " 27  parking_lots          981 non-null    int64  \n",
            " 28  floor_situated        24 non-null     float64\n",
            " 29  orientation           8 non-null      object \n",
            " 30  num_bedrooms          981 non-null    float64\n",
            " 31  department_type       39 non-null     object \n",
            " 32  m2                    981 non-null    float64\n",
            " 33  final_price           981 non-null    float64\n",
            " 34  price_square_meter    981 non-null    float64\n",
            "dtypes: float64(15), int64(3), object(17)\n",
            "memory usage: 268.4+ KB\n"
          ]
        }
      ]
    },
    {
      "cell_type": "markdown",
      "source": [
        "### Columnas repetidas y triviales\n",
        "\n",
        "En el primer caso, repiten los mismos valores por lo que no son relevantes"
      ],
      "metadata": {
        "id": "-dWCbTryzJLj"
      }
    },
    {
      "cell_type": "code",
      "source": [
        "df[[\"subtitle\", \"timestamp\", \"price_currency\", \"age_in_years\", \"age_in_years\"]].head(10)\n",
        "data_cdmx = data_cdmx.drop([\"subtitle\", \"timestamp\", \"price_currency\", \"age_in_years\", \"age_in_years\"], axis=1);"
      ],
      "metadata": {
        "id": "K-7mhN39zO3b"
      },
      "execution_count": 5,
      "outputs": []
    },
    {
      "cell_type": "markdown",
      "source": [
        "En el segundo caso, las siguientes columnas son triviales u otorgan información redundante.\n",
        "\n",
        "* `attributes` (Consta de 2 variables, la primera corresponde con `m2` y la segunda con `num_bedrooms`)"
      ],
      "metadata": {
        "id": "rkrXcjxY1fDl"
      }
    },
    {
      "cell_type": "code",
      "source": [
        "# Hay 2 variables comprimidas en `attributes` (la primera corresponde con la columna `m2` y la segunda con `num_bedrooms`)\n",
        "df.iloc[:,[0,5,30,32]].head()"
      ],
      "metadata": {
        "colab": {
          "base_uri": "https://localhost:8080/",
          "height": 206
        },
        "id": "2Ga5zozl1-Px",
        "outputId": "980717ad-34e8-4999-bc6e-78c5b3c09d62"
      },
      "execution_count": 6,
      "outputs": [
        {
          "output_type": "execute_result",
          "data": {
            "text/plain": [
              "                                           main_name  \\\n",
              "0                          Departamento - Roma Norte   \n",
              "1        Preventa Exclusiva · Terraloza Roma Norte ·   \n",
              "2                     Townhouse Único En La Roma Sur   \n",
              "3  Departamento En Roma Sur, Cuauhtémoc Con 2 Rec...   \n",
              "4           Últimos Deptos En Preventa En Roma Norte   \n",
              "\n",
              "                   attributes  num_bedrooms     m2  \n",
              "0  127 m² construidos,2 recs.           2.0  127.0  \n",
              "1    54 m² construidos,1 rec.           1.0   54.0  \n",
              "2  163 m² construidos,3 recs.           3.0  163.0  \n",
              "3   93 m² construidos,2 recs.           2.0   93.0  \n",
              "4  103 m² construidos,2 recs.           2.0  103.0  "
            ],
            "text/html": [
              "\n",
              "  <div id=\"df-25660ab0-2dde-466a-a14d-6b3bc5a9c78a\">\n",
              "    <div class=\"colab-df-container\">\n",
              "      <div>\n",
              "<style scoped>\n",
              "    .dataframe tbody tr th:only-of-type {\n",
              "        vertical-align: middle;\n",
              "    }\n",
              "\n",
              "    .dataframe tbody tr th {\n",
              "        vertical-align: top;\n",
              "    }\n",
              "\n",
              "    .dataframe thead th {\n",
              "        text-align: right;\n",
              "    }\n",
              "</style>\n",
              "<table border=\"1\" class=\"dataframe\">\n",
              "  <thead>\n",
              "    <tr style=\"text-align: right;\">\n",
              "      <th></th>\n",
              "      <th>main_name</th>\n",
              "      <th>attributes</th>\n",
              "      <th>num_bedrooms</th>\n",
              "      <th>m2</th>\n",
              "    </tr>\n",
              "  </thead>\n",
              "  <tbody>\n",
              "    <tr>\n",
              "      <th>0</th>\n",
              "      <td>Departamento - Roma Norte</td>\n",
              "      <td>127 m² construidos,2 recs.</td>\n",
              "      <td>2.0</td>\n",
              "      <td>127.0</td>\n",
              "    </tr>\n",
              "    <tr>\n",
              "      <th>1</th>\n",
              "      <td>Preventa Exclusiva · Terraloza Roma Norte ·</td>\n",
              "      <td>54 m² construidos,1 rec.</td>\n",
              "      <td>1.0</td>\n",
              "      <td>54.0</td>\n",
              "    </tr>\n",
              "    <tr>\n",
              "      <th>2</th>\n",
              "      <td>Townhouse Único En La Roma Sur</td>\n",
              "      <td>163 m² construidos,3 recs.</td>\n",
              "      <td>3.0</td>\n",
              "      <td>163.0</td>\n",
              "    </tr>\n",
              "    <tr>\n",
              "      <th>3</th>\n",
              "      <td>Departamento En Roma Sur, Cuauhtémoc Con 2 Rec...</td>\n",
              "      <td>93 m² construidos,2 recs.</td>\n",
              "      <td>2.0</td>\n",
              "      <td>93.0</td>\n",
              "    </tr>\n",
              "    <tr>\n",
              "      <th>4</th>\n",
              "      <td>Últimos Deptos En Preventa En Roma Norte</td>\n",
              "      <td>103 m² construidos,2 recs.</td>\n",
              "      <td>2.0</td>\n",
              "      <td>103.0</td>\n",
              "    </tr>\n",
              "  </tbody>\n",
              "</table>\n",
              "</div>\n",
              "      <button class=\"colab-df-convert\" onclick=\"convertToInteractive('df-25660ab0-2dde-466a-a14d-6b3bc5a9c78a')\"\n",
              "              title=\"Convert this dataframe to an interactive table.\"\n",
              "              style=\"display:none;\">\n",
              "        \n",
              "  <svg xmlns=\"http://www.w3.org/2000/svg\" height=\"24px\"viewBox=\"0 0 24 24\"\n",
              "       width=\"24px\">\n",
              "    <path d=\"M0 0h24v24H0V0z\" fill=\"none\"/>\n",
              "    <path d=\"M18.56 5.44l.94 2.06.94-2.06 2.06-.94-2.06-.94-.94-2.06-.94 2.06-2.06.94zm-11 1L8.5 8.5l.94-2.06 2.06-.94-2.06-.94L8.5 2.5l-.94 2.06-2.06.94zm10 10l.94 2.06.94-2.06 2.06-.94-2.06-.94-.94-2.06-.94 2.06-2.06.94z\"/><path d=\"M17.41 7.96l-1.37-1.37c-.4-.4-.92-.59-1.43-.59-.52 0-1.04.2-1.43.59L10.3 9.45l-7.72 7.72c-.78.78-.78 2.05 0 2.83L4 21.41c.39.39.9.59 1.41.59.51 0 1.02-.2 1.41-.59l7.78-7.78 2.81-2.81c.8-.78.8-2.07 0-2.86zM5.41 20L4 18.59l7.72-7.72 1.47 1.35L5.41 20z\"/>\n",
              "  </svg>\n",
              "      </button>\n",
              "      \n",
              "  <style>\n",
              "    .colab-df-container {\n",
              "      display:flex;\n",
              "      flex-wrap:wrap;\n",
              "      gap: 12px;\n",
              "    }\n",
              "\n",
              "    .colab-df-convert {\n",
              "      background-color: #E8F0FE;\n",
              "      border: none;\n",
              "      border-radius: 50%;\n",
              "      cursor: pointer;\n",
              "      display: none;\n",
              "      fill: #1967D2;\n",
              "      height: 32px;\n",
              "      padding: 0 0 0 0;\n",
              "      width: 32px;\n",
              "    }\n",
              "\n",
              "    .colab-df-convert:hover {\n",
              "      background-color: #E2EBFA;\n",
              "      box-shadow: 0px 1px 2px rgba(60, 64, 67, 0.3), 0px 1px 3px 1px rgba(60, 64, 67, 0.15);\n",
              "      fill: #174EA6;\n",
              "    }\n",
              "\n",
              "    [theme=dark] .colab-df-convert {\n",
              "      background-color: #3B4455;\n",
              "      fill: #D2E3FC;\n",
              "    }\n",
              "\n",
              "    [theme=dark] .colab-df-convert:hover {\n",
              "      background-color: #434B5C;\n",
              "      box-shadow: 0px 1px 3px 1px rgba(0, 0, 0, 0.15);\n",
              "      filter: drop-shadow(0px 1px 2px rgba(0, 0, 0, 0.3));\n",
              "      fill: #FFFFFF;\n",
              "    }\n",
              "  </style>\n",
              "\n",
              "      <script>\n",
              "        const buttonEl =\n",
              "          document.querySelector('#df-25660ab0-2dde-466a-a14d-6b3bc5a9c78a button.colab-df-convert');\n",
              "        buttonEl.style.display =\n",
              "          google.colab.kernel.accessAllowed ? 'block' : 'none';\n",
              "\n",
              "        async function convertToInteractive(key) {\n",
              "          const element = document.querySelector('#df-25660ab0-2dde-466a-a14d-6b3bc5a9c78a');\n",
              "          const dataTable =\n",
              "            await google.colab.kernel.invokeFunction('convertToInteractive',\n",
              "                                                     [key], {});\n",
              "          if (!dataTable) return;\n",
              "\n",
              "          const docLinkHtml = 'Like what you see? Visit the ' +\n",
              "            '<a target=\"_blank\" href=https://colab.research.google.com/notebooks/data_table.ipynb>data table notebook</a>'\n",
              "            + ' to learn more about interactive tables.';\n",
              "          element.innerHTML = '';\n",
              "          dataTable['output_type'] = 'display_data';\n",
              "          await google.colab.output.renderOutput(dataTable, element);\n",
              "          const docLink = document.createElement('div');\n",
              "          docLink.innerHTML = docLinkHtml;\n",
              "          element.appendChild(docLink);\n",
              "        }\n",
              "      </script>\n",
              "    </div>\n",
              "  </div>\n",
              "  "
            ]
          },
          "metadata": {},
          "execution_count": 6
        }
      ]
    },
    {
      "cell_type": "code",
      "source": [
        "# Los datos de \"attributes\" y \"m2\" solo difieren en una pequeña parte\n",
        "df[df['attributes'].apply(lambda x: float(re.findall(r'\\d+', x)[0])) != df['m2']].iloc[:,[0,5,32]].head()"
      ],
      "metadata": {
        "colab": {
          "base_uri": "https://localhost:8080/",
          "height": 206
        },
        "id": "JDdGpCQD2iq9",
        "outputId": "a81139b8-773e-4802-9eac-f3894c54f7b0"
      },
      "execution_count": 7,
      "outputs": [
        {
          "output_type": "execute_result",
          "data": {
            "text/plain": [
              "                                             main_name  \\\n",
              "189  Preventa De Departamentos, Locales Y Oficinas ...   \n",
              "200  Venta Hermoso Depto Col. Roma Sur Baja California   \n",
              "205                         Departamentos Colonia Roma   \n",
              "218             Departamento En Venta Colonia Roma Sur   \n",
              "281  Departamento En Venta Estilo Ecléctico, Roma N...   \n",
              "\n",
              "                     attributes      m2  \n",
              "189  103 m² construidos,3 recs.  103.10  \n",
              "200   95 m² construidos,2 recs.   95.20  \n",
              "205    53 m² construidos,1 rec.   53.02  \n",
              "218  120 m² construidos,2 recs.  120.24  \n",
              "281   96 m² construidos,2 recs.   96.50  "
            ],
            "text/html": [
              "\n",
              "  <div id=\"df-2bc65768-07d3-4b28-b98e-21176a60b1d4\">\n",
              "    <div class=\"colab-df-container\">\n",
              "      <div>\n",
              "<style scoped>\n",
              "    .dataframe tbody tr th:only-of-type {\n",
              "        vertical-align: middle;\n",
              "    }\n",
              "\n",
              "    .dataframe tbody tr th {\n",
              "        vertical-align: top;\n",
              "    }\n",
              "\n",
              "    .dataframe thead th {\n",
              "        text-align: right;\n",
              "    }\n",
              "</style>\n",
              "<table border=\"1\" class=\"dataframe\">\n",
              "  <thead>\n",
              "    <tr style=\"text-align: right;\">\n",
              "      <th></th>\n",
              "      <th>main_name</th>\n",
              "      <th>attributes</th>\n",
              "      <th>m2</th>\n",
              "    </tr>\n",
              "  </thead>\n",
              "  <tbody>\n",
              "    <tr>\n",
              "      <th>189</th>\n",
              "      <td>Preventa De Departamentos, Locales Y Oficinas ...</td>\n",
              "      <td>103 m² construidos,3 recs.</td>\n",
              "      <td>103.10</td>\n",
              "    </tr>\n",
              "    <tr>\n",
              "      <th>200</th>\n",
              "      <td>Venta Hermoso Depto Col. Roma Sur Baja California</td>\n",
              "      <td>95 m² construidos,2 recs.</td>\n",
              "      <td>95.20</td>\n",
              "    </tr>\n",
              "    <tr>\n",
              "      <th>205</th>\n",
              "      <td>Departamentos Colonia Roma</td>\n",
              "      <td>53 m² construidos,1 rec.</td>\n",
              "      <td>53.02</td>\n",
              "    </tr>\n",
              "    <tr>\n",
              "      <th>218</th>\n",
              "      <td>Departamento En Venta Colonia Roma Sur</td>\n",
              "      <td>120 m² construidos,2 recs.</td>\n",
              "      <td>120.24</td>\n",
              "    </tr>\n",
              "    <tr>\n",
              "      <th>281</th>\n",
              "      <td>Departamento En Venta Estilo Ecléctico, Roma N...</td>\n",
              "      <td>96 m² construidos,2 recs.</td>\n",
              "      <td>96.50</td>\n",
              "    </tr>\n",
              "  </tbody>\n",
              "</table>\n",
              "</div>\n",
              "      <button class=\"colab-df-convert\" onclick=\"convertToInteractive('df-2bc65768-07d3-4b28-b98e-21176a60b1d4')\"\n",
              "              title=\"Convert this dataframe to an interactive table.\"\n",
              "              style=\"display:none;\">\n",
              "        \n",
              "  <svg xmlns=\"http://www.w3.org/2000/svg\" height=\"24px\"viewBox=\"0 0 24 24\"\n",
              "       width=\"24px\">\n",
              "    <path d=\"M0 0h24v24H0V0z\" fill=\"none\"/>\n",
              "    <path d=\"M18.56 5.44l.94 2.06.94-2.06 2.06-.94-2.06-.94-.94-2.06-.94 2.06-2.06.94zm-11 1L8.5 8.5l.94-2.06 2.06-.94-2.06-.94L8.5 2.5l-.94 2.06-2.06.94zm10 10l.94 2.06.94-2.06 2.06-.94-2.06-.94-.94-2.06-.94 2.06-2.06.94z\"/><path d=\"M17.41 7.96l-1.37-1.37c-.4-.4-.92-.59-1.43-.59-.52 0-1.04.2-1.43.59L10.3 9.45l-7.72 7.72c-.78.78-.78 2.05 0 2.83L4 21.41c.39.39.9.59 1.41.59.51 0 1.02-.2 1.41-.59l7.78-7.78 2.81-2.81c.8-.78.8-2.07 0-2.86zM5.41 20L4 18.59l7.72-7.72 1.47 1.35L5.41 20z\"/>\n",
              "  </svg>\n",
              "      </button>\n",
              "      \n",
              "  <style>\n",
              "    .colab-df-container {\n",
              "      display:flex;\n",
              "      flex-wrap:wrap;\n",
              "      gap: 12px;\n",
              "    }\n",
              "\n",
              "    .colab-df-convert {\n",
              "      background-color: #E8F0FE;\n",
              "      border: none;\n",
              "      border-radius: 50%;\n",
              "      cursor: pointer;\n",
              "      display: none;\n",
              "      fill: #1967D2;\n",
              "      height: 32px;\n",
              "      padding: 0 0 0 0;\n",
              "      width: 32px;\n",
              "    }\n",
              "\n",
              "    .colab-df-convert:hover {\n",
              "      background-color: #E2EBFA;\n",
              "      box-shadow: 0px 1px 2px rgba(60, 64, 67, 0.3), 0px 1px 3px 1px rgba(60, 64, 67, 0.15);\n",
              "      fill: #174EA6;\n",
              "    }\n",
              "\n",
              "    [theme=dark] .colab-df-convert {\n",
              "      background-color: #3B4455;\n",
              "      fill: #D2E3FC;\n",
              "    }\n",
              "\n",
              "    [theme=dark] .colab-df-convert:hover {\n",
              "      background-color: #434B5C;\n",
              "      box-shadow: 0px 1px 3px 1px rgba(0, 0, 0, 0.15);\n",
              "      filter: drop-shadow(0px 1px 2px rgba(0, 0, 0, 0.3));\n",
              "      fill: #FFFFFF;\n",
              "    }\n",
              "  </style>\n",
              "\n",
              "      <script>\n",
              "        const buttonEl =\n",
              "          document.querySelector('#df-2bc65768-07d3-4b28-b98e-21176a60b1d4 button.colab-df-convert');\n",
              "        buttonEl.style.display =\n",
              "          google.colab.kernel.accessAllowed ? 'block' : 'none';\n",
              "\n",
              "        async function convertToInteractive(key) {\n",
              "          const element = document.querySelector('#df-2bc65768-07d3-4b28-b98e-21176a60b1d4');\n",
              "          const dataTable =\n",
              "            await google.colab.kernel.invokeFunction('convertToInteractive',\n",
              "                                                     [key], {});\n",
              "          if (!dataTable) return;\n",
              "\n",
              "          const docLinkHtml = 'Like what you see? Visit the ' +\n",
              "            '<a target=\"_blank\" href=https://colab.research.google.com/notebooks/data_table.ipynb>data table notebook</a>'\n",
              "            + ' to learn more about interactive tables.';\n",
              "          element.innerHTML = '';\n",
              "          dataTable['output_type'] = 'display_data';\n",
              "          await google.colab.output.renderOutput(dataTable, element);\n",
              "          const docLink = document.createElement('div');\n",
              "          docLink.innerHTML = docLinkHtml;\n",
              "          element.appendChild(docLink);\n",
              "        }\n",
              "      </script>\n",
              "    </div>\n",
              "  </div>\n",
              "  "
            ]
          },
          "metadata": {},
          "execution_count": 7
        }
      ]
    },
    {
      "cell_type": "code",
      "source": [
        "# Inlcuso los datos de \"attributes\" no llegan a tener el dato del número de habitaciones por lo que ésta columna no es relevante.\n",
        "def tmp_func1(x):\n",
        "    if len(re.findall(r'\\d+', x))==2:\n",
        "        s = re.findall(r'\\d+', x)[1]\n",
        "    else: s = \"prueba\"\n",
        "    return s\n",
        "df[df['attributes'].apply(tmp_func1) == \"prueba\"].iloc[:,[0,5,30]].head()"
      ],
      "metadata": {
        "colab": {
          "base_uri": "https://localhost:8080/",
          "height": 206
        },
        "id": "ed0IQnMZ3S5x",
        "outputId": "304c1e3d-3f49-4075-dec5-8ac0cace9a19"
      },
      "execution_count": 8,
      "outputs": [
        {
          "output_type": "execute_result",
          "data": {
            "text/plain": [
              "                                          main_name  \\\n",
              "411           Venta Departamento Nuevo Colonia Roma   \n",
              "541                  Departamento En Venta Roma Sur   \n",
              "584                     Preventa En La Colonia Roma   \n",
              "601           Preventa De Departamentos En Roma Sur   \n",
              "619  Preventa En La Colonia Roma Norte, Chapultepec   \n",
              "\n",
              "                       attributes  num_bedrooms  \n",
              "411            141 m² construidos           2.0  \n",
              "541  7,210 m² construidos,2 recs.           2.0  \n",
              "584             80 m² construidos           2.0  \n",
              "601             64 m² construidos           2.0  \n",
              "619             34 m² construidos           2.0  "
            ],
            "text/html": [
              "\n",
              "  <div id=\"df-6cb9a2d7-e8cc-4292-bf1f-bcb865375dcf\">\n",
              "    <div class=\"colab-df-container\">\n",
              "      <div>\n",
              "<style scoped>\n",
              "    .dataframe tbody tr th:only-of-type {\n",
              "        vertical-align: middle;\n",
              "    }\n",
              "\n",
              "    .dataframe tbody tr th {\n",
              "        vertical-align: top;\n",
              "    }\n",
              "\n",
              "    .dataframe thead th {\n",
              "        text-align: right;\n",
              "    }\n",
              "</style>\n",
              "<table border=\"1\" class=\"dataframe\">\n",
              "  <thead>\n",
              "    <tr style=\"text-align: right;\">\n",
              "      <th></th>\n",
              "      <th>main_name</th>\n",
              "      <th>attributes</th>\n",
              "      <th>num_bedrooms</th>\n",
              "    </tr>\n",
              "  </thead>\n",
              "  <tbody>\n",
              "    <tr>\n",
              "      <th>411</th>\n",
              "      <td>Venta Departamento Nuevo Colonia Roma</td>\n",
              "      <td>141 m² construidos</td>\n",
              "      <td>2.0</td>\n",
              "    </tr>\n",
              "    <tr>\n",
              "      <th>541</th>\n",
              "      <td>Departamento En Venta Roma Sur</td>\n",
              "      <td>7,210 m² construidos,2 recs.</td>\n",
              "      <td>2.0</td>\n",
              "    </tr>\n",
              "    <tr>\n",
              "      <th>584</th>\n",
              "      <td>Preventa En La Colonia Roma</td>\n",
              "      <td>80 m² construidos</td>\n",
              "      <td>2.0</td>\n",
              "    </tr>\n",
              "    <tr>\n",
              "      <th>601</th>\n",
              "      <td>Preventa De Departamentos En Roma Sur</td>\n",
              "      <td>64 m² construidos</td>\n",
              "      <td>2.0</td>\n",
              "    </tr>\n",
              "    <tr>\n",
              "      <th>619</th>\n",
              "      <td>Preventa En La Colonia Roma Norte, Chapultepec</td>\n",
              "      <td>34 m² construidos</td>\n",
              "      <td>2.0</td>\n",
              "    </tr>\n",
              "  </tbody>\n",
              "</table>\n",
              "</div>\n",
              "      <button class=\"colab-df-convert\" onclick=\"convertToInteractive('df-6cb9a2d7-e8cc-4292-bf1f-bcb865375dcf')\"\n",
              "              title=\"Convert this dataframe to an interactive table.\"\n",
              "              style=\"display:none;\">\n",
              "        \n",
              "  <svg xmlns=\"http://www.w3.org/2000/svg\" height=\"24px\"viewBox=\"0 0 24 24\"\n",
              "       width=\"24px\">\n",
              "    <path d=\"M0 0h24v24H0V0z\" fill=\"none\"/>\n",
              "    <path d=\"M18.56 5.44l.94 2.06.94-2.06 2.06-.94-2.06-.94-.94-2.06-.94 2.06-2.06.94zm-11 1L8.5 8.5l.94-2.06 2.06-.94-2.06-.94L8.5 2.5l-.94 2.06-2.06.94zm10 10l.94 2.06.94-2.06 2.06-.94-2.06-.94-.94-2.06-.94 2.06-2.06.94z\"/><path d=\"M17.41 7.96l-1.37-1.37c-.4-.4-.92-.59-1.43-.59-.52 0-1.04.2-1.43.59L10.3 9.45l-7.72 7.72c-.78.78-.78 2.05 0 2.83L4 21.41c.39.39.9.59 1.41.59.51 0 1.02-.2 1.41-.59l7.78-7.78 2.81-2.81c.8-.78.8-2.07 0-2.86zM5.41 20L4 18.59l7.72-7.72 1.47 1.35L5.41 20z\"/>\n",
              "  </svg>\n",
              "      </button>\n",
              "      \n",
              "  <style>\n",
              "    .colab-df-container {\n",
              "      display:flex;\n",
              "      flex-wrap:wrap;\n",
              "      gap: 12px;\n",
              "    }\n",
              "\n",
              "    .colab-df-convert {\n",
              "      background-color: #E8F0FE;\n",
              "      border: none;\n",
              "      border-radius: 50%;\n",
              "      cursor: pointer;\n",
              "      display: none;\n",
              "      fill: #1967D2;\n",
              "      height: 32px;\n",
              "      padding: 0 0 0 0;\n",
              "      width: 32px;\n",
              "    }\n",
              "\n",
              "    .colab-df-convert:hover {\n",
              "      background-color: #E2EBFA;\n",
              "      box-shadow: 0px 1px 2px rgba(60, 64, 67, 0.3), 0px 1px 3px 1px rgba(60, 64, 67, 0.15);\n",
              "      fill: #174EA6;\n",
              "    }\n",
              "\n",
              "    [theme=dark] .colab-df-convert {\n",
              "      background-color: #3B4455;\n",
              "      fill: #D2E3FC;\n",
              "    }\n",
              "\n",
              "    [theme=dark] .colab-df-convert:hover {\n",
              "      background-color: #434B5C;\n",
              "      box-shadow: 0px 1px 3px 1px rgba(0, 0, 0, 0.15);\n",
              "      filter: drop-shadow(0px 1px 2px rgba(0, 0, 0, 0.3));\n",
              "      fill: #FFFFFF;\n",
              "    }\n",
              "  </style>\n",
              "\n",
              "      <script>\n",
              "        const buttonEl =\n",
              "          document.querySelector('#df-6cb9a2d7-e8cc-4292-bf1f-bcb865375dcf button.colab-df-convert');\n",
              "        buttonEl.style.display =\n",
              "          google.colab.kernel.accessAllowed ? 'block' : 'none';\n",
              "\n",
              "        async function convertToInteractive(key) {\n",
              "          const element = document.querySelector('#df-6cb9a2d7-e8cc-4292-bf1f-bcb865375dcf');\n",
              "          const dataTable =\n",
              "            await google.colab.kernel.invokeFunction('convertToInteractive',\n",
              "                                                     [key], {});\n",
              "          if (!dataTable) return;\n",
              "\n",
              "          const docLinkHtml = 'Like what you see? Visit the ' +\n",
              "            '<a target=\"_blank\" href=https://colab.research.google.com/notebooks/data_table.ipynb>data table notebook</a>'\n",
              "            + ' to learn more about interactive tables.';\n",
              "          element.innerHTML = '';\n",
              "          dataTable['output_type'] = 'display_data';\n",
              "          await google.colab.output.renderOutput(dataTable, element);\n",
              "          const docLink = document.createElement('div');\n",
              "          docLink.innerHTML = docLinkHtml;\n",
              "          element.appendChild(docLink);\n",
              "        }\n",
              "      </script>\n",
              "    </div>\n",
              "  </div>\n",
              "  "
            ]
          },
          "metadata": {},
          "execution_count": 8
        }
      ]
    },
    {
      "cell_type": "markdown",
      "source": [
        "Dado que se repiten los datos de la columna `attributes` e incluso se encuentran mejor descritos en las columnas `m2` y `num_bedrooms`, se elimina esta columna."
      ],
      "metadata": {
        "id": "XsOAuNRd4s7e"
      }
    },
    {
      "cell_type": "code",
      "source": [
        "data_cdmx = data_cdmx.drop(\"attributes\", axis=1);"
      ],
      "metadata": {
        "id": "mJmvQYhp30wN"
      },
      "execution_count": 9,
      "outputs": []
    },
    {
      "cell_type": "markdown",
      "source": [
        "* ``orientation`` (irrelevante y mejor mostrada en `lat` y `lon`)\n",
        "\n",
        "Dado que solo consta de 8 datos registrados en comparación con 981 de la base de datos, se puede descartar."
      ],
      "metadata": {
        "id": "IhlCGddBJ1-3"
      }
    },
    {
      "cell_type": "code",
      "source": [
        "print(df.iloc[:,29].value_counts())\n",
        "data_cdmx = data_cdmx.drop(\"orientation\", axis=1);"
      ],
      "metadata": {
        "colab": {
          "base_uri": "https://localhost:8080/"
        },
        "id": "9g3nA4UgJ1ST",
        "outputId": "6e7bfe9a-44e7-46e2-ade7-e217322afbac"
      },
      "execution_count": 10,
      "outputs": [
        {
          "output_type": "stream",
          "name": "stdout",
          "text": [
            "Poniente    3\n",
            "Sur         2\n",
            "Oeste       1\n",
            "Norte       1\n",
            "Oriente     1\n",
            "Name: orientation, dtype: int64\n"
          ]
        }
      ]
    },
    {
      "cell_type": "markdown",
      "source": [
        "### Extracción de datos\n",
        "\n",
        "Se suelen minar los datos relevantes (normalmente valores númericos) de una cadena de texto sin limpiar."
      ],
      "metadata": {
        "id": "fKPZ_pmc48FR"
      }
    },
    {
      "cell_type": "markdown",
      "source": [
        "#### `price` (se recupera el valor en pesos en forma numérica)"
      ],
      "metadata": {
        "id": "ro3QAdEH8FiW"
      }
    },
    {
      "cell_type": "code",
      "source": [
        "# df[[\"id\", \"price\"]].head()\n",
        "data_cdmx[\"price\"] = df['price'].apply(lambda x: int(re.search(r'\\d+', x).group()))\n",
        "data_cdmx[[\"id\", \"price\"]].head()"
      ],
      "metadata": {
        "colab": {
          "base_uri": "https://localhost:8080/",
          "height": 206
        },
        "id": "d_v2x6Fw5b6z",
        "outputId": "8436b932-a160-40c1-c02e-fcf2d2542f8d"
      },
      "execution_count": 11,
      "outputs": [
        {
          "output_type": "execute_result",
          "data": {
            "text/plain": [
              "   id    price\n",
              "0   1  9000000\n",
              "1   2  4264000\n",
              "2   3  8093500\n",
              "3   4  4000000\n",
              "4   5  6732700"
            ],
            "text/html": [
              "\n",
              "  <div id=\"df-93d7a291-4dbe-4f31-a4b5-f264e91704a8\">\n",
              "    <div class=\"colab-df-container\">\n",
              "      <div>\n",
              "<style scoped>\n",
              "    .dataframe tbody tr th:only-of-type {\n",
              "        vertical-align: middle;\n",
              "    }\n",
              "\n",
              "    .dataframe tbody tr th {\n",
              "        vertical-align: top;\n",
              "    }\n",
              "\n",
              "    .dataframe thead th {\n",
              "        text-align: right;\n",
              "    }\n",
              "</style>\n",
              "<table border=\"1\" class=\"dataframe\">\n",
              "  <thead>\n",
              "    <tr style=\"text-align: right;\">\n",
              "      <th></th>\n",
              "      <th>id</th>\n",
              "      <th>price</th>\n",
              "    </tr>\n",
              "  </thead>\n",
              "  <tbody>\n",
              "    <tr>\n",
              "      <th>0</th>\n",
              "      <td>1</td>\n",
              "      <td>9000000</td>\n",
              "    </tr>\n",
              "    <tr>\n",
              "      <th>1</th>\n",
              "      <td>2</td>\n",
              "      <td>4264000</td>\n",
              "    </tr>\n",
              "    <tr>\n",
              "      <th>2</th>\n",
              "      <td>3</td>\n",
              "      <td>8093500</td>\n",
              "    </tr>\n",
              "    <tr>\n",
              "      <th>3</th>\n",
              "      <td>4</td>\n",
              "      <td>4000000</td>\n",
              "    </tr>\n",
              "    <tr>\n",
              "      <th>4</th>\n",
              "      <td>5</td>\n",
              "      <td>6732700</td>\n",
              "    </tr>\n",
              "  </tbody>\n",
              "</table>\n",
              "</div>\n",
              "      <button class=\"colab-df-convert\" onclick=\"convertToInteractive('df-93d7a291-4dbe-4f31-a4b5-f264e91704a8')\"\n",
              "              title=\"Convert this dataframe to an interactive table.\"\n",
              "              style=\"display:none;\">\n",
              "        \n",
              "  <svg xmlns=\"http://www.w3.org/2000/svg\" height=\"24px\"viewBox=\"0 0 24 24\"\n",
              "       width=\"24px\">\n",
              "    <path d=\"M0 0h24v24H0V0z\" fill=\"none\"/>\n",
              "    <path d=\"M18.56 5.44l.94 2.06.94-2.06 2.06-.94-2.06-.94-.94-2.06-.94 2.06-2.06.94zm-11 1L8.5 8.5l.94-2.06 2.06-.94-2.06-.94L8.5 2.5l-.94 2.06-2.06.94zm10 10l.94 2.06.94-2.06 2.06-.94-2.06-.94-.94-2.06-.94 2.06-2.06.94z\"/><path d=\"M17.41 7.96l-1.37-1.37c-.4-.4-.92-.59-1.43-.59-.52 0-1.04.2-1.43.59L10.3 9.45l-7.72 7.72c-.78.78-.78 2.05 0 2.83L4 21.41c.39.39.9.59 1.41.59.51 0 1.02-.2 1.41-.59l7.78-7.78 2.81-2.81c.8-.78.8-2.07 0-2.86zM5.41 20L4 18.59l7.72-7.72 1.47 1.35L5.41 20z\"/>\n",
              "  </svg>\n",
              "      </button>\n",
              "      \n",
              "  <style>\n",
              "    .colab-df-container {\n",
              "      display:flex;\n",
              "      flex-wrap:wrap;\n",
              "      gap: 12px;\n",
              "    }\n",
              "\n",
              "    .colab-df-convert {\n",
              "      background-color: #E8F0FE;\n",
              "      border: none;\n",
              "      border-radius: 50%;\n",
              "      cursor: pointer;\n",
              "      display: none;\n",
              "      fill: #1967D2;\n",
              "      height: 32px;\n",
              "      padding: 0 0 0 0;\n",
              "      width: 32px;\n",
              "    }\n",
              "\n",
              "    .colab-df-convert:hover {\n",
              "      background-color: #E2EBFA;\n",
              "      box-shadow: 0px 1px 2px rgba(60, 64, 67, 0.3), 0px 1px 3px 1px rgba(60, 64, 67, 0.15);\n",
              "      fill: #174EA6;\n",
              "    }\n",
              "\n",
              "    [theme=dark] .colab-df-convert {\n",
              "      background-color: #3B4455;\n",
              "      fill: #D2E3FC;\n",
              "    }\n",
              "\n",
              "    [theme=dark] .colab-df-convert:hover {\n",
              "      background-color: #434B5C;\n",
              "      box-shadow: 0px 1px 3px 1px rgba(0, 0, 0, 0.15);\n",
              "      filter: drop-shadow(0px 1px 2px rgba(0, 0, 0, 0.3));\n",
              "      fill: #FFFFFF;\n",
              "    }\n",
              "  </style>\n",
              "\n",
              "      <script>\n",
              "        const buttonEl =\n",
              "          document.querySelector('#df-93d7a291-4dbe-4f31-a4b5-f264e91704a8 button.colab-df-convert');\n",
              "        buttonEl.style.display =\n",
              "          google.colab.kernel.accessAllowed ? 'block' : 'none';\n",
              "\n",
              "        async function convertToInteractive(key) {\n",
              "          const element = document.querySelector('#df-93d7a291-4dbe-4f31-a4b5-f264e91704a8');\n",
              "          const dataTable =\n",
              "            await google.colab.kernel.invokeFunction('convertToInteractive',\n",
              "                                                     [key], {});\n",
              "          if (!dataTable) return;\n",
              "\n",
              "          const docLinkHtml = 'Like what you see? Visit the ' +\n",
              "            '<a target=\"_blank\" href=https://colab.research.google.com/notebooks/data_table.ipynb>data table notebook</a>'\n",
              "            + ' to learn more about interactive tables.';\n",
              "          element.innerHTML = '';\n",
              "          dataTable['output_type'] = 'display_data';\n",
              "          await google.colab.output.renderOutput(dataTable, element);\n",
              "          const docLink = document.createElement('div');\n",
              "          docLink.innerHTML = docLinkHtml;\n",
              "          element.appendChild(docLink);\n",
              "        }\n",
              "      </script>\n",
              "    </div>\n",
              "  </div>\n",
              "  "
            ]
          },
          "metadata": {},
          "execution_count": 11
        }
      ]
    },
    {
      "cell_type": "markdown",
      "source": [
        "#### ``since`` contra `since_period`, ``days_on_site`` y ``since_value``\n",
        "Como se puede observar, se puede calcular el valor de dias en el sitio a partir de la columna `since` que luego se subdivide en dos columnas más, sin embargo esto se puede mejorar."
      ],
      "metadata": {
        "id": "Eu7Mi4gFugef"
      }
    },
    {
      "cell_type": "code",
      "source": [
        "df.iloc[:, [7, 9, 16, 17, 18]].head()"
      ],
      "metadata": {
        "colab": {
          "base_uri": "https://localhost:8080/",
          "height": 206
        },
        "id": "eFjseo0oLL5Q",
        "outputId": "3de3f2fb-23fe-4949-8fc3-d672f0f5ee9e"
      },
      "execution_count": 12,
      "outputs": [
        {
          "output_type": "execute_result",
          "data": {
            "text/plain": [
              "   id                                since since_period  since_value  \\\n",
              "0   1                Publicado hace 5 días         days            5   \n",
              "1   2                Publicado hace 7 días         days            7   \n",
              "2   3                Publicado hace 4 días         days            4   \n",
              "3   4  Publicado hace 5 meses por {action}       months            5   \n",
              "4   5               Publicado hace 52 días         days           52   \n",
              "\n",
              "   days_on_site  \n",
              "0           5.0  \n",
              "1           7.0  \n",
              "2           4.0  \n",
              "3         150.0  \n",
              "4          52.0  "
            ],
            "text/html": [
              "\n",
              "  <div id=\"df-b75ab100-415b-4f29-8f57-0aed5c0fe444\">\n",
              "    <div class=\"colab-df-container\">\n",
              "      <div>\n",
              "<style scoped>\n",
              "    .dataframe tbody tr th:only-of-type {\n",
              "        vertical-align: middle;\n",
              "    }\n",
              "\n",
              "    .dataframe tbody tr th {\n",
              "        vertical-align: top;\n",
              "    }\n",
              "\n",
              "    .dataframe thead th {\n",
              "        text-align: right;\n",
              "    }\n",
              "</style>\n",
              "<table border=\"1\" class=\"dataframe\">\n",
              "  <thead>\n",
              "    <tr style=\"text-align: right;\">\n",
              "      <th></th>\n",
              "      <th>id</th>\n",
              "      <th>since</th>\n",
              "      <th>since_period</th>\n",
              "      <th>since_value</th>\n",
              "      <th>days_on_site</th>\n",
              "    </tr>\n",
              "  </thead>\n",
              "  <tbody>\n",
              "    <tr>\n",
              "      <th>0</th>\n",
              "      <td>1</td>\n",
              "      <td>Publicado hace 5 días</td>\n",
              "      <td>days</td>\n",
              "      <td>5</td>\n",
              "      <td>5.0</td>\n",
              "    </tr>\n",
              "    <tr>\n",
              "      <th>1</th>\n",
              "      <td>2</td>\n",
              "      <td>Publicado hace 7 días</td>\n",
              "      <td>days</td>\n",
              "      <td>7</td>\n",
              "      <td>7.0</td>\n",
              "    </tr>\n",
              "    <tr>\n",
              "      <th>2</th>\n",
              "      <td>3</td>\n",
              "      <td>Publicado hace 4 días</td>\n",
              "      <td>days</td>\n",
              "      <td>4</td>\n",
              "      <td>4.0</td>\n",
              "    </tr>\n",
              "    <tr>\n",
              "      <th>3</th>\n",
              "      <td>4</td>\n",
              "      <td>Publicado hace 5 meses por {action}</td>\n",
              "      <td>months</td>\n",
              "      <td>5</td>\n",
              "      <td>150.0</td>\n",
              "    </tr>\n",
              "    <tr>\n",
              "      <th>4</th>\n",
              "      <td>5</td>\n",
              "      <td>Publicado hace 52 días</td>\n",
              "      <td>days</td>\n",
              "      <td>52</td>\n",
              "      <td>52.0</td>\n",
              "    </tr>\n",
              "  </tbody>\n",
              "</table>\n",
              "</div>\n",
              "      <button class=\"colab-df-convert\" onclick=\"convertToInteractive('df-b75ab100-415b-4f29-8f57-0aed5c0fe444')\"\n",
              "              title=\"Convert this dataframe to an interactive table.\"\n",
              "              style=\"display:none;\">\n",
              "        \n",
              "  <svg xmlns=\"http://www.w3.org/2000/svg\" height=\"24px\"viewBox=\"0 0 24 24\"\n",
              "       width=\"24px\">\n",
              "    <path d=\"M0 0h24v24H0V0z\" fill=\"none\"/>\n",
              "    <path d=\"M18.56 5.44l.94 2.06.94-2.06 2.06-.94-2.06-.94-.94-2.06-.94 2.06-2.06.94zm-11 1L8.5 8.5l.94-2.06 2.06-.94-2.06-.94L8.5 2.5l-.94 2.06-2.06.94zm10 10l.94 2.06.94-2.06 2.06-.94-2.06-.94-.94-2.06-.94 2.06-2.06.94z\"/><path d=\"M17.41 7.96l-1.37-1.37c-.4-.4-.92-.59-1.43-.59-.52 0-1.04.2-1.43.59L10.3 9.45l-7.72 7.72c-.78.78-.78 2.05 0 2.83L4 21.41c.39.39.9.59 1.41.59.51 0 1.02-.2 1.41-.59l7.78-7.78 2.81-2.81c.8-.78.8-2.07 0-2.86zM5.41 20L4 18.59l7.72-7.72 1.47 1.35L5.41 20z\"/>\n",
              "  </svg>\n",
              "      </button>\n",
              "      \n",
              "  <style>\n",
              "    .colab-df-container {\n",
              "      display:flex;\n",
              "      flex-wrap:wrap;\n",
              "      gap: 12px;\n",
              "    }\n",
              "\n",
              "    .colab-df-convert {\n",
              "      background-color: #E8F0FE;\n",
              "      border: none;\n",
              "      border-radius: 50%;\n",
              "      cursor: pointer;\n",
              "      display: none;\n",
              "      fill: #1967D2;\n",
              "      height: 32px;\n",
              "      padding: 0 0 0 0;\n",
              "      width: 32px;\n",
              "    }\n",
              "\n",
              "    .colab-df-convert:hover {\n",
              "      background-color: #E2EBFA;\n",
              "      box-shadow: 0px 1px 2px rgba(60, 64, 67, 0.3), 0px 1px 3px 1px rgba(60, 64, 67, 0.15);\n",
              "      fill: #174EA6;\n",
              "    }\n",
              "\n",
              "    [theme=dark] .colab-df-convert {\n",
              "      background-color: #3B4455;\n",
              "      fill: #D2E3FC;\n",
              "    }\n",
              "\n",
              "    [theme=dark] .colab-df-convert:hover {\n",
              "      background-color: #434B5C;\n",
              "      box-shadow: 0px 1px 3px 1px rgba(0, 0, 0, 0.15);\n",
              "      filter: drop-shadow(0px 1px 2px rgba(0, 0, 0, 0.3));\n",
              "      fill: #FFFFFF;\n",
              "    }\n",
              "  </style>\n",
              "\n",
              "      <script>\n",
              "        const buttonEl =\n",
              "          document.querySelector('#df-b75ab100-415b-4f29-8f57-0aed5c0fe444 button.colab-df-convert');\n",
              "        buttonEl.style.display =\n",
              "          google.colab.kernel.accessAllowed ? 'block' : 'none';\n",
              "\n",
              "        async function convertToInteractive(key) {\n",
              "          const element = document.querySelector('#df-b75ab100-415b-4f29-8f57-0aed5c0fe444');\n",
              "          const dataTable =\n",
              "            await google.colab.kernel.invokeFunction('convertToInteractive',\n",
              "                                                     [key], {});\n",
              "          if (!dataTable) return;\n",
              "\n",
              "          const docLinkHtml = 'Like what you see? Visit the ' +\n",
              "            '<a target=\"_blank\" href=https://colab.research.google.com/notebooks/data_table.ipynb>data table notebook</a>'\n",
              "            + ' to learn more about interactive tables.';\n",
              "          element.innerHTML = '';\n",
              "          dataTable['output_type'] = 'display_data';\n",
              "          await google.colab.output.renderOutput(dataTable, element);\n",
              "          const docLink = document.createElement('div');\n",
              "          docLink.innerHTML = docLinkHtml;\n",
              "          element.appendChild(docLink);\n",
              "        }\n",
              "      </script>\n",
              "    </div>\n",
              "  </div>\n",
              "  "
            ]
          },
          "metadata": {},
          "execution_count": 12
        }
      ]
    },
    {
      "cell_type": "code",
      "source": [
        "# Refinamos el calculo de los días totales para medirlo en función de un mes y año promedio\n",
        "def tmp_func2(x):\n",
        "    tmp_var = int(re.findall('\\d+', x)[0])\n",
        "    if re.findall(\"meses\", x) == ['meses']:\n",
        "        tmp_var *= 30.42\n",
        "    if re.findall(\"años\", x) == [\"años\"]:\n",
        "        tmp_var *= 365.24\n",
        "    return int(round(tmp_var))\n",
        "\n",
        "data_cdmx['since'] = df['since'].apply(tmp_func2)\n",
        "data_cdmx[[\"id\", \"since\", \"days_on_site\"]].head()"
      ],
      "metadata": {
        "colab": {
          "base_uri": "https://localhost:8080/",
          "height": 206
        },
        "id": "NSHwVnasunxI",
        "outputId": "cd80b00e-54dc-49db-9484-458a36bcba9f"
      },
      "execution_count": 13,
      "outputs": [
        {
          "output_type": "execute_result",
          "data": {
            "text/plain": [
              "   id  since  days_on_site\n",
              "0   1      5           5.0\n",
              "1   2      7           7.0\n",
              "2   3      4           4.0\n",
              "3   4    152         150.0\n",
              "4   5     52          52.0"
            ],
            "text/html": [
              "\n",
              "  <div id=\"df-f62097ae-a955-4993-b635-1de3a2e13d8c\">\n",
              "    <div class=\"colab-df-container\">\n",
              "      <div>\n",
              "<style scoped>\n",
              "    .dataframe tbody tr th:only-of-type {\n",
              "        vertical-align: middle;\n",
              "    }\n",
              "\n",
              "    .dataframe tbody tr th {\n",
              "        vertical-align: top;\n",
              "    }\n",
              "\n",
              "    .dataframe thead th {\n",
              "        text-align: right;\n",
              "    }\n",
              "</style>\n",
              "<table border=\"1\" class=\"dataframe\">\n",
              "  <thead>\n",
              "    <tr style=\"text-align: right;\">\n",
              "      <th></th>\n",
              "      <th>id</th>\n",
              "      <th>since</th>\n",
              "      <th>days_on_site</th>\n",
              "    </tr>\n",
              "  </thead>\n",
              "  <tbody>\n",
              "    <tr>\n",
              "      <th>0</th>\n",
              "      <td>1</td>\n",
              "      <td>5</td>\n",
              "      <td>5.0</td>\n",
              "    </tr>\n",
              "    <tr>\n",
              "      <th>1</th>\n",
              "      <td>2</td>\n",
              "      <td>7</td>\n",
              "      <td>7.0</td>\n",
              "    </tr>\n",
              "    <tr>\n",
              "      <th>2</th>\n",
              "      <td>3</td>\n",
              "      <td>4</td>\n",
              "      <td>4.0</td>\n",
              "    </tr>\n",
              "    <tr>\n",
              "      <th>3</th>\n",
              "      <td>4</td>\n",
              "      <td>152</td>\n",
              "      <td>150.0</td>\n",
              "    </tr>\n",
              "    <tr>\n",
              "      <th>4</th>\n",
              "      <td>5</td>\n",
              "      <td>52</td>\n",
              "      <td>52.0</td>\n",
              "    </tr>\n",
              "  </tbody>\n",
              "</table>\n",
              "</div>\n",
              "      <button class=\"colab-df-convert\" onclick=\"convertToInteractive('df-f62097ae-a955-4993-b635-1de3a2e13d8c')\"\n",
              "              title=\"Convert this dataframe to an interactive table.\"\n",
              "              style=\"display:none;\">\n",
              "        \n",
              "  <svg xmlns=\"http://www.w3.org/2000/svg\" height=\"24px\"viewBox=\"0 0 24 24\"\n",
              "       width=\"24px\">\n",
              "    <path d=\"M0 0h24v24H0V0z\" fill=\"none\"/>\n",
              "    <path d=\"M18.56 5.44l.94 2.06.94-2.06 2.06-.94-2.06-.94-.94-2.06-.94 2.06-2.06.94zm-11 1L8.5 8.5l.94-2.06 2.06-.94-2.06-.94L8.5 2.5l-.94 2.06-2.06.94zm10 10l.94 2.06.94-2.06 2.06-.94-2.06-.94-.94-2.06-.94 2.06-2.06.94z\"/><path d=\"M17.41 7.96l-1.37-1.37c-.4-.4-.92-.59-1.43-.59-.52 0-1.04.2-1.43.59L10.3 9.45l-7.72 7.72c-.78.78-.78 2.05 0 2.83L4 21.41c.39.39.9.59 1.41.59.51 0 1.02-.2 1.41-.59l7.78-7.78 2.81-2.81c.8-.78.8-2.07 0-2.86zM5.41 20L4 18.59l7.72-7.72 1.47 1.35L5.41 20z\"/>\n",
              "  </svg>\n",
              "      </button>\n",
              "      \n",
              "  <style>\n",
              "    .colab-df-container {\n",
              "      display:flex;\n",
              "      flex-wrap:wrap;\n",
              "      gap: 12px;\n",
              "    }\n",
              "\n",
              "    .colab-df-convert {\n",
              "      background-color: #E8F0FE;\n",
              "      border: none;\n",
              "      border-radius: 50%;\n",
              "      cursor: pointer;\n",
              "      display: none;\n",
              "      fill: #1967D2;\n",
              "      height: 32px;\n",
              "      padding: 0 0 0 0;\n",
              "      width: 32px;\n",
              "    }\n",
              "\n",
              "    .colab-df-convert:hover {\n",
              "      background-color: #E2EBFA;\n",
              "      box-shadow: 0px 1px 2px rgba(60, 64, 67, 0.3), 0px 1px 3px 1px rgba(60, 64, 67, 0.15);\n",
              "      fill: #174EA6;\n",
              "    }\n",
              "\n",
              "    [theme=dark] .colab-df-convert {\n",
              "      background-color: #3B4455;\n",
              "      fill: #D2E3FC;\n",
              "    }\n",
              "\n",
              "    [theme=dark] .colab-df-convert:hover {\n",
              "      background-color: #434B5C;\n",
              "      box-shadow: 0px 1px 3px 1px rgba(0, 0, 0, 0.15);\n",
              "      filter: drop-shadow(0px 1px 2px rgba(0, 0, 0, 0.3));\n",
              "      fill: #FFFFFF;\n",
              "    }\n",
              "  </style>\n",
              "\n",
              "      <script>\n",
              "        const buttonEl =\n",
              "          document.querySelector('#df-f62097ae-a955-4993-b635-1de3a2e13d8c button.colab-df-convert');\n",
              "        buttonEl.style.display =\n",
              "          google.colab.kernel.accessAllowed ? 'block' : 'none';\n",
              "\n",
              "        async function convertToInteractive(key) {\n",
              "          const element = document.querySelector('#df-f62097ae-a955-4993-b635-1de3a2e13d8c');\n",
              "          const dataTable =\n",
              "            await google.colab.kernel.invokeFunction('convertToInteractive',\n",
              "                                                     [key], {});\n",
              "          if (!dataTable) return;\n",
              "\n",
              "          const docLinkHtml = 'Like what you see? Visit the ' +\n",
              "            '<a target=\"_blank\" href=https://colab.research.google.com/notebooks/data_table.ipynb>data table notebook</a>'\n",
              "            + ' to learn more about interactive tables.';\n",
              "          element.innerHTML = '';\n",
              "          dataTable['output_type'] = 'display_data';\n",
              "          await google.colab.output.renderOutput(dataTable, element);\n",
              "          const docLink = document.createElement('div');\n",
              "          docLink.innerHTML = docLinkHtml;\n",
              "          element.appendChild(docLink);\n",
              "        }\n",
              "      </script>\n",
              "    </div>\n",
              "  </div>\n",
              "  "
            ]
          },
          "metadata": {},
          "execution_count": 13
        }
      ]
    },
    {
      "cell_type": "markdown",
      "source": [
        "Una vez mostrada la comparación se puede continuar a eliminar las columnas adicionales"
      ],
      "metadata": {
        "id": "I1B3Z4p49g2u"
      }
    },
    {
      "cell_type": "code",
      "source": [
        "# Remplazamos estos valores en \"days_on_site\" y eliminamos las columnas extra\n",
        "data_cdmx['days_on_site'] = df['since']\n",
        "data_cdmx = data_cdmx.drop([\"since\", \"since_period\", \"since_value\"], axis=1);"
      ],
      "metadata": {
        "id": "SpKbJxvWMGeh"
      },
      "execution_count": 25,
      "outputs": []
    },
    {
      "cell_type": "markdown",
      "source": [
        "### Completar valores nulos\n",
        "\n",
        "Se rellenan los valores nulos en las columnas según el contexto o la descripción de la base de datos"
      ],
      "metadata": {
        "id": "YxJtdidZIKZD"
      }
    },
    {
      "cell_type": "markdown",
      "source": [
        "* `amenities` (áreas comunes, vigilancia, servicios extra, etc.)\n",
        "\n"
      ],
      "metadata": {
        "id": "ULTRidle-l4y"
      }
    },
    {
      "cell_type": "code",
      "source": [
        "# Falta el caso para cuando no hay amenidades extra, rellenamos valores con 0\n",
        "# df[\"amenities\"].unique()\n",
        "data_cdmx[\"amenities\"] = df[\"amenities\"].fillna(0)\n",
        "data_cdmx[\"amenities\"].unique()"
      ],
      "metadata": {
        "colab": {
          "base_uri": "https://localhost:8080/"
        },
        "id": "MyoDLG41HJnP",
        "outputId": "6b1d36cd-2ddb-4943-d7af-dcde2e5f09bf"
      },
      "execution_count": 15,
      "outputs": [
        {
          "output_type": "execute_result",
          "data": {
            "text/plain": [
              "array([3., 2., 0., 4., 5., 6., 7., 8., 1.])"
            ]
          },
          "metadata": {},
          "execution_count": 15
        }
      ]
    },
    {
      "cell_type": "markdown",
      "source": [
        "* ``cellars`` (Almacenes, bovedas, depósitos, etc.)"
      ],
      "metadata": {
        "id": "NjERAabe_FXH"
      }
    },
    {
      "cell_type": "code",
      "source": [
        "# Falta el caso para cuando no tienen almacenes/bodegas, completamos valores con 0\n",
        "# df[\"cellars\"].unique()\n",
        "data_cdmx[\"cellars\"] = df[\"cellars\"].fillna(0)\n",
        "data_cdmx[\"cellars\"].unique()"
      ],
      "metadata": {
        "colab": {
          "base_uri": "https://localhost:8080/"
        },
        "id": "79OuL8pU_UoG",
        "outputId": "2f7c805a-7b9b-4175-8f28-02b2ffd64ec5"
      },
      "execution_count": 16,
      "outputs": [
        {
          "output_type": "execute_result",
          "data": {
            "text/plain": [
              "array([0., 2., 1.])"
            ]
          },
          "metadata": {},
          "execution_count": 16
        }
      ]
    },
    {
      "cell_type": "markdown",
      "source": [
        "* ``monthly_fee`` (Gastos de mantenimiento, servicios, entre otros)"
      ],
      "metadata": {
        "id": "ZokijV1F_cqS"
      }
    },
    {
      "cell_type": "code",
      "source": [
        "# Falta el caso no hay gastos de mantenimiento, completamos valores con 0 MXN y limpiamos los datos\n",
        "# df[\"monthly_fee\"].unique()\n",
        "data_cdmx[\"monthly_fee\"] = df[\"monthly_fee\"].fillna(\"0 MXN\")\n",
        "data_cdmx['monthly_fee'] = data_cdmx['monthly_fee'].apply(lambda x: int(re.search(r'\\d+', x).group()))\n",
        "data_cdmx['monthly_fee'].unique()"
      ],
      "metadata": {
        "colab": {
          "base_uri": "https://localhost:8080/"
        },
        "id": "_H9rVTiK_a7Z",
        "outputId": "e6a746ae-5599-488d-b052-9c9701d55fac"
      },
      "execution_count": 17,
      "outputs": [
        {
          "output_type": "execute_result",
          "data": {
            "text/plain": [
              "array([   0,  853,  800,    1, 3700, 2000, 1200, 2500,    4, 4000, 1500,\n",
              "       2900, 3900, 3000])"
            ]
          },
          "metadata": {},
          "execution_count": 17
        }
      ]
    },
    {
      "cell_type": "markdown",
      "source": [
        "* `apartments_per_floor` (nùmero de apartamentos por piso)"
      ],
      "metadata": {
        "id": "ucA6kNm6AwlA"
      }
    },
    {
      "cell_type": "code",
      "source": [
        "# Falta el caso para cuando no hay informacion así que rellenamos valores con 1, sabiendo que mínimo hay un departamento por piso\n",
        "df[\"apartments_per_floor\"].unique()\n",
        "data_cdmx[\"apartments_per_floor\"] = df[\"apartments_per_floor\"].fillna(1)\n",
        "data_cdmx[\"apartments_per_floor\"].unique()"
      ],
      "metadata": {
        "colab": {
          "base_uri": "https://localhost:8080/"
        },
        "id": "drHXsq15Bfot",
        "outputId": "ae745396-0f3e-4955-b1ae-d54085e8ca7e"
      },
      "execution_count": 18,
      "outputs": [
        {
          "output_type": "execute_result",
          "data": {
            "text/plain": [
              "array([1., 2., 7., 3., 4., 5.])"
            ]
          },
          "metadata": {},
          "execution_count": 18
        }
      ]
    },
    {
      "cell_type": "markdown",
      "source": [
        "* `disposition` (Distribución del departamentamento en el edificio)"
      ],
      "metadata": {
        "id": "P_2yvjTCCAz8"
      }
    },
    {
      "cell_type": "code",
      "source": [
        "# Falta el caso en que no se proporciona información, rellenamos valores con N/A\n",
        "# df[\"disposition\"].unique()\n",
        "data_cdmx[\"disposition\"] = df[\"disposition\"].fillna(\"N/A\")\n",
        "data_cdmx[\"disposition\"].unique()"
      ],
      "metadata": {
        "colab": {
          "base_uri": "https://localhost:8080/"
        },
        "id": "CDscCrsqCRRK",
        "outputId": "48b1d692-d5ba-49e3-995c-1923ff0a2d49"
      },
      "execution_count": 19,
      "outputs": [
        {
          "output_type": "execute_result",
          "data": {
            "text/plain": [
              "array(['Contrafrente', 'N/A', 'Frente', 'Interno'], dtype=object)"
            ]
          },
          "metadata": {},
          "execution_count": 19
        }
      ]
    },
    {
      "cell_type": "markdown",
      "source": [
        "* ``floor_situated`` (Piso del edificio en el que se localiza el departamento)"
      ],
      "metadata": {
        "id": "0ief2nKUDrCN"
      }
    },
    {
      "cell_type": "code",
      "source": [
        "# Falta el caso en el que el edificio solo es de un piso o si el departamento está en planta baja, rellenamos valores con 0\n",
        "# df[\"floor_situated\"].unique()\n",
        "data_cdmx[\"floor_situated\"] = df[\"floor_situated\"].fillna(0)\n",
        "data_cdmx[\"floor_situated\"].unique()"
      ],
      "metadata": {
        "colab": {
          "base_uri": "https://localhost:8080/"
        },
        "id": "2tCErMr3EJVo",
        "outputId": "21d9bbf4-d15d-46ca-99c8-4b64fafc21c9"
      },
      "execution_count": 20,
      "outputs": [
        {
          "output_type": "execute_result",
          "data": {
            "text/plain": [
              "array([0., 1., 3., 2., 4., 5.])"
            ]
          },
          "metadata": {},
          "execution_count": 20
        }
      ]
    },
    {
      "cell_type": "markdown",
      "source": [
        "* `department_type` (Loft, penthouse, estudio, duplex)"
      ],
      "metadata": {
        "id": "gDj-LH59E1V_"
      }
    },
    {
      "cell_type": "code",
      "source": [
        "# Falta tan varios casos por lo que podemos definir una categoría general, rellenamos valores con `Normal` dado que no poseemos más información\n",
        "# df[\"department_type\"].unique()\n",
        "data_cdmx[\"department_type\"] = df[\"department_type\"].fillna(\"Normal\")\n",
        "data_cdmx[\"department_type\"].unique()"
      ],
      "metadata": {
        "colab": {
          "base_uri": "https://localhost:8080/"
        },
        "id": "9mRsrAoJFdw7",
        "outputId": "c6a4ca15-e371-4d80-9aa6-7d8e5d3087fe"
      },
      "execution_count": 21,
      "outputs": [
        {
          "output_type": "execute_result",
          "data": {
            "text/plain": [
              "array(['Normal', 'Loft'], dtype=object)"
            ]
          },
          "metadata": {},
          "execution_count": 21
        }
      ]
    },
    {
      "cell_type": "markdown",
      "source": [
        "### Dato mal capturado en ``bathrooms``\n",
        "\n",
        "Según la base de datos existe un departamento de $91\\ m^2$ con 23 baños, algo que no tiene sentido por lo que opta por eliminar el renglón"
      ],
      "metadata": {
        "id": "qdRDr7mUQ6NW"
      }
    },
    {
      "cell_type": "code",
      "source": [
        "df[(df.iloc[:,21] == 23)].iloc[:, [0, 7,21, 32]]"
      ],
      "metadata": {
        "colab": {
          "base_uri": "https://localhost:8080/",
          "height": 81
        },
        "id": "iHKKnRf7QbZF",
        "outputId": "2675a004-0a8d-4bed-f7bb-59501640979d"
      },
      "execution_count": 22,
      "outputs": [
        {
          "output_type": "execute_result",
          "data": {
            "text/plain": [
              "                          main_name   id  bathrooms    m2\n",
              "687  Departamento En Venta Roma Sur  692       23.0  91.0"
            ],
            "text/html": [
              "\n",
              "  <div id=\"df-9ec0e65e-15f4-4ada-a21e-9db71d3b5b61\">\n",
              "    <div class=\"colab-df-container\">\n",
              "      <div>\n",
              "<style scoped>\n",
              "    .dataframe tbody tr th:only-of-type {\n",
              "        vertical-align: middle;\n",
              "    }\n",
              "\n",
              "    .dataframe tbody tr th {\n",
              "        vertical-align: top;\n",
              "    }\n",
              "\n",
              "    .dataframe thead th {\n",
              "        text-align: right;\n",
              "    }\n",
              "</style>\n",
              "<table border=\"1\" class=\"dataframe\">\n",
              "  <thead>\n",
              "    <tr style=\"text-align: right;\">\n",
              "      <th></th>\n",
              "      <th>main_name</th>\n",
              "      <th>id</th>\n",
              "      <th>bathrooms</th>\n",
              "      <th>m2</th>\n",
              "    </tr>\n",
              "  </thead>\n",
              "  <tbody>\n",
              "    <tr>\n",
              "      <th>687</th>\n",
              "      <td>Departamento En Venta Roma Sur</td>\n",
              "      <td>692</td>\n",
              "      <td>23.0</td>\n",
              "      <td>91.0</td>\n",
              "    </tr>\n",
              "  </tbody>\n",
              "</table>\n",
              "</div>\n",
              "      <button class=\"colab-df-convert\" onclick=\"convertToInteractive('df-9ec0e65e-15f4-4ada-a21e-9db71d3b5b61')\"\n",
              "              title=\"Convert this dataframe to an interactive table.\"\n",
              "              style=\"display:none;\">\n",
              "        \n",
              "  <svg xmlns=\"http://www.w3.org/2000/svg\" height=\"24px\"viewBox=\"0 0 24 24\"\n",
              "       width=\"24px\">\n",
              "    <path d=\"M0 0h24v24H0V0z\" fill=\"none\"/>\n",
              "    <path d=\"M18.56 5.44l.94 2.06.94-2.06 2.06-.94-2.06-.94-.94-2.06-.94 2.06-2.06.94zm-11 1L8.5 8.5l.94-2.06 2.06-.94-2.06-.94L8.5 2.5l-.94 2.06-2.06.94zm10 10l.94 2.06.94-2.06 2.06-.94-2.06-.94-.94-2.06-.94 2.06-2.06.94z\"/><path d=\"M17.41 7.96l-1.37-1.37c-.4-.4-.92-.59-1.43-.59-.52 0-1.04.2-1.43.59L10.3 9.45l-7.72 7.72c-.78.78-.78 2.05 0 2.83L4 21.41c.39.39.9.59 1.41.59.51 0 1.02-.2 1.41-.59l7.78-7.78 2.81-2.81c.8-.78.8-2.07 0-2.86zM5.41 20L4 18.59l7.72-7.72 1.47 1.35L5.41 20z\"/>\n",
              "  </svg>\n",
              "      </button>\n",
              "      \n",
              "  <style>\n",
              "    .colab-df-container {\n",
              "      display:flex;\n",
              "      flex-wrap:wrap;\n",
              "      gap: 12px;\n",
              "    }\n",
              "\n",
              "    .colab-df-convert {\n",
              "      background-color: #E8F0FE;\n",
              "      border: none;\n",
              "      border-radius: 50%;\n",
              "      cursor: pointer;\n",
              "      display: none;\n",
              "      fill: #1967D2;\n",
              "      height: 32px;\n",
              "      padding: 0 0 0 0;\n",
              "      width: 32px;\n",
              "    }\n",
              "\n",
              "    .colab-df-convert:hover {\n",
              "      background-color: #E2EBFA;\n",
              "      box-shadow: 0px 1px 2px rgba(60, 64, 67, 0.3), 0px 1px 3px 1px rgba(60, 64, 67, 0.15);\n",
              "      fill: #174EA6;\n",
              "    }\n",
              "\n",
              "    [theme=dark] .colab-df-convert {\n",
              "      background-color: #3B4455;\n",
              "      fill: #D2E3FC;\n",
              "    }\n",
              "\n",
              "    [theme=dark] .colab-df-convert:hover {\n",
              "      background-color: #434B5C;\n",
              "      box-shadow: 0px 1px 3px 1px rgba(0, 0, 0, 0.15);\n",
              "      filter: drop-shadow(0px 1px 2px rgba(0, 0, 0, 0.3));\n",
              "      fill: #FFFFFF;\n",
              "    }\n",
              "  </style>\n",
              "\n",
              "      <script>\n",
              "        const buttonEl =\n",
              "          document.querySelector('#df-9ec0e65e-15f4-4ada-a21e-9db71d3b5b61 button.colab-df-convert');\n",
              "        buttonEl.style.display =\n",
              "          google.colab.kernel.accessAllowed ? 'block' : 'none';\n",
              "\n",
              "        async function convertToInteractive(key) {\n",
              "          const element = document.querySelector('#df-9ec0e65e-15f4-4ada-a21e-9db71d3b5b61');\n",
              "          const dataTable =\n",
              "            await google.colab.kernel.invokeFunction('convertToInteractive',\n",
              "                                                     [key], {});\n",
              "          if (!dataTable) return;\n",
              "\n",
              "          const docLinkHtml = 'Like what you see? Visit the ' +\n",
              "            '<a target=\"_blank\" href=https://colab.research.google.com/notebooks/data_table.ipynb>data table notebook</a>'\n",
              "            + ' to learn more about interactive tables.';\n",
              "          element.innerHTML = '';\n",
              "          dataTable['output_type'] = 'display_data';\n",
              "          await google.colab.output.renderOutput(dataTable, element);\n",
              "          const docLink = document.createElement('div');\n",
              "          docLink.innerHTML = docLinkHtml;\n",
              "          element.appendChild(docLink);\n",
              "        }\n",
              "      </script>\n",
              "    </div>\n",
              "  </div>\n",
              "  "
            ]
          },
          "metadata": {},
          "execution_count": 22
        }
      ]
    },
    {
      "cell_type": "code",
      "source": [
        "# Eliminamos este dato en la variable `data_cdmx`\n",
        "data_cdmx = data_cdmx.drop(687)\n",
        "data_cdmx[\"bathrooms\"].value_counts()"
      ],
      "metadata": {
        "colab": {
          "base_uri": "https://localhost:8080/"
        },
        "id": "z-lIydliQbi2",
        "outputId": "96713479-3bbf-4b6e-f850-80312b1df522"
      },
      "execution_count": 23,
      "outputs": [
        {
          "output_type": "execute_result",
          "data": {
            "text/plain": [
              "2.0    686\n",
              "1.0    178\n",
              "3.0    105\n",
              "4.0     10\n",
              "5.0      1\n",
              "Name: bathrooms, dtype: int64"
            ]
          },
          "metadata": {},
          "execution_count": 23
        }
      ]
    },
    {
      "cell_type": "markdown",
      "source": [
        "## iwiiiii"
      ],
      "metadata": {
        "id": "5WLoASmFK3TZ"
      }
    },
    {
      "cell_type": "code",
      "source": [
        "data_cdmx.info()"
      ],
      "metadata": {
        "colab": {
          "base_uri": "https://localhost:8080/"
        },
        "id": "bDIhieozyy7D",
        "outputId": "e88729c4-824b-42da-e92b-6f14f0f553a3"
      },
      "execution_count": 26,
      "outputs": [
        {
          "output_type": "stream",
          "name": "stdout",
          "text": [
            "<class 'pandas.core.frame.DataFrame'>\n",
            "Int64Index: 980 entries, 0 to 980\n",
            "Data columns (total 26 columns):\n",
            " #   Column                Non-Null Count  Dtype  \n",
            "---  ------                --------------  -----  \n",
            " 0   main_name             980 non-null    object \n",
            " 1   link                  980 non-null    object \n",
            " 2   location              980 non-null    object \n",
            " 3   price                 980 non-null    int64  \n",
            " 4   id                    980 non-null    int64  \n",
            " 5   address               701 non-null    object \n",
            " 6   description           980 non-null    object \n",
            " 7   vendor                980 non-null    object \n",
            " 8   lat                   980 non-null    float64\n",
            " 9   lon                   980 non-null    float64\n",
            " 10  price_mod             980 non-null    float64\n",
            " 11  days_on_site          980 non-null    object \n",
            " 12  amenities             980 non-null    float64\n",
            " 13  bathrooms             980 non-null    float64\n",
            " 14  cellars               980 non-null    float64\n",
            " 15  num_floors            84 non-null     float64\n",
            " 16  monthly_fee           980 non-null    int64  \n",
            " 17  apartments_per_floor  980 non-null    float64\n",
            " 18  disposition           980 non-null    object \n",
            " 19  parking_lots          980 non-null    int64  \n",
            " 20  floor_situated        980 non-null    float64\n",
            " 21  num_bedrooms          980 non-null    float64\n",
            " 22  department_type       980 non-null    object \n",
            " 23  m2                    980 non-null    float64\n",
            " 24  final_price           980 non-null    float64\n",
            " 25  price_square_meter    980 non-null    float64\n",
            "dtypes: float64(13), int64(4), object(9)\n",
            "memory usage: 206.7+ KB\n"
          ]
        }
      ]
    },
    {
      "cell_type": "code",
      "source": [],
      "metadata": {
        "id": "eBBfV8VJtb3m"
      },
      "execution_count": 24,
      "outputs": []
    }
  ]
}
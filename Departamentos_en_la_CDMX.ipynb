{
  "nbformat": 4,
  "nbformat_minor": 0,
  "metadata": {
    "colab": {
      "provenance": [],
      "authorship_tag": "ABX9TyNpbIb8oT6LrimU2Pg7ShM5",
      "include_colab_link": true
    },
    "kernelspec": {
      "name": "python3",
      "display_name": "Python 3"
    },
    "language_info": {
      "name": "python"
    }
  },
  "cells": [
    {
      "cell_type": "markdown",
      "metadata": {
        "id": "view-in-github",
        "colab_type": "text"
      },
      "source": [
        "<a href=\"https://colab.research.google.com/github/joshbrx/DataScience_challenge/blob/main/Departamentos_en_la_CDMX.ipynb\" target=\"_parent\"><img src=\"https://colab.research.google.com/assets/colab-badge.svg\" alt=\"Open In Colab\"/></a>"
      ]
    },
    {
      "cell_type": "markdown",
      "source": [
        "# ***Pregunta 1***\n",
        "El archivo ``reto_precios.csv`` contiene información sobre precios de departamentos nuevos dentro de la CDMX, junto con diversas características del inmueble.\n",
        "\n",
        "Para esta pregunta,requerimos que nos puedas explicar los factores que influyen en el precio por metro cuadrado de cada vivienda\n",
        "\n",
        "***Hint: Existe información externa que te podría ser útil para resolver esta pregunta*.**\n",
        "\n",
        "\n",
        "\n",
        "---\n",
        "\n"
      ],
      "metadata": {
        "id": "BSc5_OLyZH5e"
      }
    },
    {
      "cell_type": "code",
      "source": [
        "import pandas as pd\n",
        "import numpy as np\n",
        "import keras\n",
        "import re"
      ],
      "metadata": {
        "id": "wU12XXTVZGTJ"
      },
      "execution_count": 379,
      "outputs": []
    },
    {
      "cell_type": "code",
      "execution_count": 380,
      "metadata": {
        "colab": {
          "base_uri": "https://localhost:8080/",
          "height": 698
        },
        "id": "HVVBaABGXlKy",
        "outputId": "a2eb61ca-5448-425f-edda-84829bf2eed5"
      },
      "outputs": [
        {
          "output_type": "execute_result",
          "data": {
            "text/plain": [
              "                                           main_name               subtitle  \\\n",
              "0                          Departamento - Roma Norte  Departamento en venta   \n",
              "1        Preventa Exclusiva · Terraloza Roma Norte ·  Departamento en venta   \n",
              "2                     Townhouse Único En La Roma Sur  Departamento en venta   \n",
              "3  Departamento En Roma Sur, Cuauhtémoc Con 2 Rec...  Departamento en venta   \n",
              "4           Últimos Deptos En Preventa En Roma Norte  Departamento en venta   \n",
              "\n",
              "                                                link  \\\n",
              "0  https://departamento.metroscubicos.com/MLM-139...   \n",
              "1  https://departamento.metroscubicos.com/MLM-139...   \n",
              "2  https://departamento.metroscubicos.com/MLM-139...   \n",
              "3  https://departamento.metroscubicos.com/MLM-132...   \n",
              "4  https://departamento.metroscubicos.com/MLM-137...   \n",
              "\n",
              "                                            location          price  \\\n",
              "0  Sinaloa 20 , Roma Sur, Roma Sur, Cuauhtémoc, D...  9000000 pesos   \n",
              "1   Tonala, Roma Norte, Cuauhtémoc, Distrito Federal  4264000 pesos   \n",
              "2  Tepeji 43, Roma Sur, Ciudad De México, Cdmx, M...  8093500 pesos   \n",
              "3    Linares, Roma Sur, Cuauhtémoc, Distrito Federal  4000000 pesos   \n",
              "4  Frontera, Roma Norte, Cuauhtémoc, Distrito Fed...  6732700 pesos   \n",
              "\n",
              "                   attributes   timestamp  id  \\\n",
              "0  127 m² construidos,2 recs.  2022-03-29   1   \n",
              "1    54 m² construidos,1 rec.  2022-03-29   2   \n",
              "2  163 m² construidos,3 recs.  2022-03-29   3   \n",
              "3   93 m² construidos,2 recs.  2022-03-29   4   \n",
              "4  103 m² construidos,2 recs.  2022-03-29   5   \n",
              "\n",
              "                                             address  \\\n",
              "0                              Sinaloa 20 , Roma Sur   \n",
              "1                                             Tonala   \n",
              "2  Tepeji 43, Roma Sur, Ciudad De México, Cdmx, M...   \n",
              "3                                            Linares   \n",
              "4                                           Frontera   \n",
              "\n",
              "                                 since  ... apartments_per_floor  \\\n",
              "0                Publicado hace 5 días  ...                  NaN   \n",
              "1                Publicado hace 7 días  ...                  NaN   \n",
              "2                Publicado hace 4 días  ...                  NaN   \n",
              "3  Publicado hace 5 meses por {action}  ...                  NaN   \n",
              "4               Publicado hace 52 días  ...                  NaN   \n",
              "\n",
              "    disposition  parking_lots  floor_situated  orientation num_bedrooms  \\\n",
              "0  Contrafrente             2             NaN          NaN          2.0   \n",
              "1           NaN             1             NaN          NaN          1.0   \n",
              "2           NaN             2             NaN          NaN          3.0   \n",
              "3           NaN             1             NaN        Oeste          2.0   \n",
              "4           NaN             1             NaN          NaN          2.0   \n",
              "\n",
              "  department_type     m2  final_price  price_square_meter  \n",
              "0             NaN  127.0    9000000.0        70866.141732  \n",
              "1             NaN   54.0    4264000.0        78962.962963  \n",
              "2             NaN  163.0    8093500.0        49653.374233  \n",
              "3            Loft   93.0    4000000.0        43010.752688  \n",
              "4             NaN  103.0    6732700.0        65366.019417  \n",
              "\n",
              "[5 rows x 35 columns]"
            ],
            "text/html": [
              "\n",
              "  <div id=\"df-7641cc8e-3da7-412c-867b-69988f338766\">\n",
              "    <div class=\"colab-df-container\">\n",
              "      <div>\n",
              "<style scoped>\n",
              "    .dataframe tbody tr th:only-of-type {\n",
              "        vertical-align: middle;\n",
              "    }\n",
              "\n",
              "    .dataframe tbody tr th {\n",
              "        vertical-align: top;\n",
              "    }\n",
              "\n",
              "    .dataframe thead th {\n",
              "        text-align: right;\n",
              "    }\n",
              "</style>\n",
              "<table border=\"1\" class=\"dataframe\">\n",
              "  <thead>\n",
              "    <tr style=\"text-align: right;\">\n",
              "      <th></th>\n",
              "      <th>main_name</th>\n",
              "      <th>subtitle</th>\n",
              "      <th>link</th>\n",
              "      <th>location</th>\n",
              "      <th>price</th>\n",
              "      <th>attributes</th>\n",
              "      <th>timestamp</th>\n",
              "      <th>id</th>\n",
              "      <th>address</th>\n",
              "      <th>since</th>\n",
              "      <th>...</th>\n",
              "      <th>apartments_per_floor</th>\n",
              "      <th>disposition</th>\n",
              "      <th>parking_lots</th>\n",
              "      <th>floor_situated</th>\n",
              "      <th>orientation</th>\n",
              "      <th>num_bedrooms</th>\n",
              "      <th>department_type</th>\n",
              "      <th>m2</th>\n",
              "      <th>final_price</th>\n",
              "      <th>price_square_meter</th>\n",
              "    </tr>\n",
              "  </thead>\n",
              "  <tbody>\n",
              "    <tr>\n",
              "      <th>0</th>\n",
              "      <td>Departamento - Roma Norte</td>\n",
              "      <td>Departamento en venta</td>\n",
              "      <td>https://departamento.metroscubicos.com/MLM-139...</td>\n",
              "      <td>Sinaloa 20 , Roma Sur, Roma Sur, Cuauhtémoc, D...</td>\n",
              "      <td>9000000 pesos</td>\n",
              "      <td>127 m² construidos,2 recs.</td>\n",
              "      <td>2022-03-29</td>\n",
              "      <td>1</td>\n",
              "      <td>Sinaloa 20 , Roma Sur</td>\n",
              "      <td>Publicado hace 5 días</td>\n",
              "      <td>...</td>\n",
              "      <td>NaN</td>\n",
              "      <td>Contrafrente</td>\n",
              "      <td>2</td>\n",
              "      <td>NaN</td>\n",
              "      <td>NaN</td>\n",
              "      <td>2.0</td>\n",
              "      <td>NaN</td>\n",
              "      <td>127.0</td>\n",
              "      <td>9000000.0</td>\n",
              "      <td>70866.141732</td>\n",
              "    </tr>\n",
              "    <tr>\n",
              "      <th>1</th>\n",
              "      <td>Preventa Exclusiva · Terraloza Roma Norte ·</td>\n",
              "      <td>Departamento en venta</td>\n",
              "      <td>https://departamento.metroscubicos.com/MLM-139...</td>\n",
              "      <td>Tonala, Roma Norte, Cuauhtémoc, Distrito Federal</td>\n",
              "      <td>4264000 pesos</td>\n",
              "      <td>54 m² construidos,1 rec.</td>\n",
              "      <td>2022-03-29</td>\n",
              "      <td>2</td>\n",
              "      <td>Tonala</td>\n",
              "      <td>Publicado hace 7 días</td>\n",
              "      <td>...</td>\n",
              "      <td>NaN</td>\n",
              "      <td>NaN</td>\n",
              "      <td>1</td>\n",
              "      <td>NaN</td>\n",
              "      <td>NaN</td>\n",
              "      <td>1.0</td>\n",
              "      <td>NaN</td>\n",
              "      <td>54.0</td>\n",
              "      <td>4264000.0</td>\n",
              "      <td>78962.962963</td>\n",
              "    </tr>\n",
              "    <tr>\n",
              "      <th>2</th>\n",
              "      <td>Townhouse Único En La Roma Sur</td>\n",
              "      <td>Departamento en venta</td>\n",
              "      <td>https://departamento.metroscubicos.com/MLM-139...</td>\n",
              "      <td>Tepeji 43, Roma Sur, Ciudad De México, Cdmx, M...</td>\n",
              "      <td>8093500 pesos</td>\n",
              "      <td>163 m² construidos,3 recs.</td>\n",
              "      <td>2022-03-29</td>\n",
              "      <td>3</td>\n",
              "      <td>Tepeji 43, Roma Sur, Ciudad De México, Cdmx, M...</td>\n",
              "      <td>Publicado hace 4 días</td>\n",
              "      <td>...</td>\n",
              "      <td>NaN</td>\n",
              "      <td>NaN</td>\n",
              "      <td>2</td>\n",
              "      <td>NaN</td>\n",
              "      <td>NaN</td>\n",
              "      <td>3.0</td>\n",
              "      <td>NaN</td>\n",
              "      <td>163.0</td>\n",
              "      <td>8093500.0</td>\n",
              "      <td>49653.374233</td>\n",
              "    </tr>\n",
              "    <tr>\n",
              "      <th>3</th>\n",
              "      <td>Departamento En Roma Sur, Cuauhtémoc Con 2 Rec...</td>\n",
              "      <td>Departamento en venta</td>\n",
              "      <td>https://departamento.metroscubicos.com/MLM-132...</td>\n",
              "      <td>Linares, Roma Sur, Cuauhtémoc, Distrito Federal</td>\n",
              "      <td>4000000 pesos</td>\n",
              "      <td>93 m² construidos,2 recs.</td>\n",
              "      <td>2022-03-29</td>\n",
              "      <td>4</td>\n",
              "      <td>Linares</td>\n",
              "      <td>Publicado hace 5 meses por {action}</td>\n",
              "      <td>...</td>\n",
              "      <td>NaN</td>\n",
              "      <td>NaN</td>\n",
              "      <td>1</td>\n",
              "      <td>NaN</td>\n",
              "      <td>Oeste</td>\n",
              "      <td>2.0</td>\n",
              "      <td>Loft</td>\n",
              "      <td>93.0</td>\n",
              "      <td>4000000.0</td>\n",
              "      <td>43010.752688</td>\n",
              "    </tr>\n",
              "    <tr>\n",
              "      <th>4</th>\n",
              "      <td>Últimos Deptos En Preventa En Roma Norte</td>\n",
              "      <td>Departamento en venta</td>\n",
              "      <td>https://departamento.metroscubicos.com/MLM-137...</td>\n",
              "      <td>Frontera, Roma Norte, Cuauhtémoc, Distrito Fed...</td>\n",
              "      <td>6732700 pesos</td>\n",
              "      <td>103 m² construidos,2 recs.</td>\n",
              "      <td>2022-03-29</td>\n",
              "      <td>5</td>\n",
              "      <td>Frontera</td>\n",
              "      <td>Publicado hace 52 días</td>\n",
              "      <td>...</td>\n",
              "      <td>NaN</td>\n",
              "      <td>NaN</td>\n",
              "      <td>1</td>\n",
              "      <td>NaN</td>\n",
              "      <td>NaN</td>\n",
              "      <td>2.0</td>\n",
              "      <td>NaN</td>\n",
              "      <td>103.0</td>\n",
              "      <td>6732700.0</td>\n",
              "      <td>65366.019417</td>\n",
              "    </tr>\n",
              "  </tbody>\n",
              "</table>\n",
              "<p>5 rows × 35 columns</p>\n",
              "</div>\n",
              "      <button class=\"colab-df-convert\" onclick=\"convertToInteractive('df-7641cc8e-3da7-412c-867b-69988f338766')\"\n",
              "              title=\"Convert this dataframe to an interactive table.\"\n",
              "              style=\"display:none;\">\n",
              "        \n",
              "  <svg xmlns=\"http://www.w3.org/2000/svg\" height=\"24px\"viewBox=\"0 0 24 24\"\n",
              "       width=\"24px\">\n",
              "    <path d=\"M0 0h24v24H0V0z\" fill=\"none\"/>\n",
              "    <path d=\"M18.56 5.44l.94 2.06.94-2.06 2.06-.94-2.06-.94-.94-2.06-.94 2.06-2.06.94zm-11 1L8.5 8.5l.94-2.06 2.06-.94-2.06-.94L8.5 2.5l-.94 2.06-2.06.94zm10 10l.94 2.06.94-2.06 2.06-.94-2.06-.94-.94-2.06-.94 2.06-2.06.94z\"/><path d=\"M17.41 7.96l-1.37-1.37c-.4-.4-.92-.59-1.43-.59-.52 0-1.04.2-1.43.59L10.3 9.45l-7.72 7.72c-.78.78-.78 2.05 0 2.83L4 21.41c.39.39.9.59 1.41.59.51 0 1.02-.2 1.41-.59l7.78-7.78 2.81-2.81c.8-.78.8-2.07 0-2.86zM5.41 20L4 18.59l7.72-7.72 1.47 1.35L5.41 20z\"/>\n",
              "  </svg>\n",
              "      </button>\n",
              "      \n",
              "  <style>\n",
              "    .colab-df-container {\n",
              "      display:flex;\n",
              "      flex-wrap:wrap;\n",
              "      gap: 12px;\n",
              "    }\n",
              "\n",
              "    .colab-df-convert {\n",
              "      background-color: #E8F0FE;\n",
              "      border: none;\n",
              "      border-radius: 50%;\n",
              "      cursor: pointer;\n",
              "      display: none;\n",
              "      fill: #1967D2;\n",
              "      height: 32px;\n",
              "      padding: 0 0 0 0;\n",
              "      width: 32px;\n",
              "    }\n",
              "\n",
              "    .colab-df-convert:hover {\n",
              "      background-color: #E2EBFA;\n",
              "      box-shadow: 0px 1px 2px rgba(60, 64, 67, 0.3), 0px 1px 3px 1px rgba(60, 64, 67, 0.15);\n",
              "      fill: #174EA6;\n",
              "    }\n",
              "\n",
              "    [theme=dark] .colab-df-convert {\n",
              "      background-color: #3B4455;\n",
              "      fill: #D2E3FC;\n",
              "    }\n",
              "\n",
              "    [theme=dark] .colab-df-convert:hover {\n",
              "      background-color: #434B5C;\n",
              "      box-shadow: 0px 1px 3px 1px rgba(0, 0, 0, 0.15);\n",
              "      filter: drop-shadow(0px 1px 2px rgba(0, 0, 0, 0.3));\n",
              "      fill: #FFFFFF;\n",
              "    }\n",
              "  </style>\n",
              "\n",
              "      <script>\n",
              "        const buttonEl =\n",
              "          document.querySelector('#df-7641cc8e-3da7-412c-867b-69988f338766 button.colab-df-convert');\n",
              "        buttonEl.style.display =\n",
              "          google.colab.kernel.accessAllowed ? 'block' : 'none';\n",
              "\n",
              "        async function convertToInteractive(key) {\n",
              "          const element = document.querySelector('#df-7641cc8e-3da7-412c-867b-69988f338766');\n",
              "          const dataTable =\n",
              "            await google.colab.kernel.invokeFunction('convertToInteractive',\n",
              "                                                     [key], {});\n",
              "          if (!dataTable) return;\n",
              "\n",
              "          const docLinkHtml = 'Like what you see? Visit the ' +\n",
              "            '<a target=\"_blank\" href=https://colab.research.google.com/notebooks/data_table.ipynb>data table notebook</a>'\n",
              "            + ' to learn more about interactive tables.';\n",
              "          element.innerHTML = '';\n",
              "          dataTable['output_type'] = 'display_data';\n",
              "          await google.colab.output.renderOutput(dataTable, element);\n",
              "          const docLink = document.createElement('div');\n",
              "          docLink.innerHTML = docLinkHtml;\n",
              "          element.appendChild(docLink);\n",
              "        }\n",
              "      </script>\n",
              "    </div>\n",
              "  </div>\n",
              "  "
            ]
          },
          "metadata": {},
          "execution_count": 380
        }
      ],
      "source": [
        "url = \"https://raw.githubusercontent.com/joshbrx/DataScience_challenge/main/reto_precios.csv\"\n",
        "df = pd.read_csv(url)\n",
        "df.head()"
      ]
    },
    {
      "cell_type": "markdown",
      "source": [
        "## Análisis exploratorio y limpieza en base de datos\n",
        "\n",
        "Es necesario poder comprender el tipo de datos con el que estamos trabajando para poder realizar posteriormente una limpieza de los mismos."
      ],
      "metadata": {
        "id": "9tvgiXxYclkc"
      }
    },
    {
      "cell_type": "code",
      "source": [
        "# Se define una copia de \"df\" llamada \"data_cdmx\" para poder limpiarla y no modificar la base de datos inicial, ni perder información.\n",
        "data_cdmx = df.copy()"
      ],
      "metadata": {
        "id": "xHl1Pw95f5kw"
      },
      "execution_count": 381,
      "outputs": []
    },
    {
      "cell_type": "code",
      "source": [
        "df.info()\n",
        "# df.describe()"
      ],
      "metadata": {
        "colab": {
          "base_uri": "https://localhost:8080/"
        },
        "id": "KdngJynlb7mr",
        "outputId": "758db19e-cef7-4bda-dbf3-0f578e169ee9"
      },
      "execution_count": 382,
      "outputs": [
        {
          "output_type": "stream",
          "name": "stdout",
          "text": [
            "<class 'pandas.core.frame.DataFrame'>\n",
            "RangeIndex: 981 entries, 0 to 980\n",
            "Data columns (total 35 columns):\n",
            " #   Column                Non-Null Count  Dtype  \n",
            "---  ------                --------------  -----  \n",
            " 0   main_name             981 non-null    object \n",
            " 1   subtitle              981 non-null    object \n",
            " 2   link                  981 non-null    object \n",
            " 3   location              981 non-null    object \n",
            " 4   price                 981 non-null    object \n",
            " 5   attributes            981 non-null    object \n",
            " 6   timestamp             981 non-null    object \n",
            " 7   id                    981 non-null    int64  \n",
            " 8   address               702 non-null    object \n",
            " 9   since                 981 non-null    object \n",
            " 10  description           981 non-null    object \n",
            " 11  vendor                981 non-null    object \n",
            " 12  lat                   981 non-null    float64\n",
            " 13  lon                   981 non-null    float64\n",
            " 14  price_mod             981 non-null    float64\n",
            " 15  price_currency        981 non-null    object \n",
            " 16  since_period          981 non-null    object \n",
            " 17  since_value           981 non-null    int64  \n",
            " 18  days_on_site          981 non-null    float64\n",
            " 19  amenities             504 non-null    float64\n",
            " 20  age_in_years          981 non-null    float64\n",
            " 21  bathrooms             981 non-null    float64\n",
            " 22  cellars               52 non-null     float64\n",
            " 23  num_floors            84 non-null     float64\n",
            " 24  monthly_fee           128 non-null    object \n",
            " 25  apartments_per_floor  15 non-null     float64\n",
            " 26  disposition           20 non-null     object \n",
            " 27  parking_lots          981 non-null    int64  \n",
            " 28  floor_situated        24 non-null     float64\n",
            " 29  orientation           8 non-null      object \n",
            " 30  num_bedrooms          981 non-null    float64\n",
            " 31  department_type       39 non-null     object \n",
            " 32  m2                    981 non-null    float64\n",
            " 33  final_price           981 non-null    float64\n",
            " 34  price_square_meter    981 non-null    float64\n",
            "dtypes: float64(15), int64(3), object(17)\n",
            "memory usage: 268.4+ KB\n"
          ]
        }
      ]
    },
    {
      "cell_type": "code",
      "source": [
        "df[\"main_name\"].value_counts()"
      ],
      "metadata": {
        "colab": {
          "base_uri": "https://localhost:8080/"
        },
        "id": "SibRwTs9ekzk",
        "outputId": "16bfb38d-1718-4db1-b88e-d00ca6b4ea4f"
      },
      "execution_count": 383,
      "outputs": [
        {
          "output_type": "execute_result",
          "data": {
            "text/plain": [
              "Departamento En Venta Roma Norte              84\n",
              "Departamento En Venta Roma Sur                56\n",
              "Departamento - Roma Norte                     49\n",
              "Departamento En Venta, Roma Sur, Cdmx         14\n",
              "Departamento En Venta En Roma Norte            7\n",
              "                                              ..\n",
              "Departamento En Venta Roma Norte (m2d1545)     1\n",
              "Departamento En Venta Roma Norte (m2d1515)     1\n",
              "Departamento En Venta Roma Norte (m2d1533)     1\n",
              "Departamento En Venta Roma Norte (m2d1525)     1\n",
              "Bajio 315 Hanover 506 (casa Roma)              1\n",
              "Name: main_name, Length: 667, dtype: int64"
            ]
          },
          "metadata": {},
          "execution_count": 383
        }
      ]
    },
    {
      "cell_type": "markdown",
      "source": [
        "### Subtitle (repetida)"
      ],
      "metadata": {
        "id": "9yWO_5_ZuCoK"
      }
    },
    {
      "cell_type": "code",
      "source": [
        "# Se repite el mismo valor por lo que \"subtitle\" es irrelevante\n",
        "print(df[\"subtitle\"].value_counts())\n",
        "data_cdmx = data_cdmx.drop(\"subtitle\", axis=1)"
      ],
      "metadata": {
        "colab": {
          "base_uri": "https://localhost:8080/"
        },
        "id": "0JS5GCaeeChA",
        "outputId": "92e6674b-5eec-494b-f080-96499c307009"
      },
      "execution_count": 384,
      "outputs": [
        {
          "output_type": "stream",
          "name": "stdout",
          "text": [
            "Departamento en venta    981\n",
            "Name: subtitle, dtype: int64\n"
          ]
        }
      ]
    },
    {
      "cell_type": "markdown",
      "source": [
        "### Location"
      ],
      "metadata": {
        "id": "UhnQJO2auGb7"
      }
    },
    {
      "cell_type": "code",
      "source": [
        "df[\"location\"].value_counts()"
      ],
      "metadata": {
        "colab": {
          "base_uri": "https://localhost:8080/"
        },
        "id": "1Pi3heBHfUic",
        "outputId": "03eea220-a6c9-47c3-e5dd-bd83ed95af46"
      },
      "execution_count": 385,
      "outputs": [
        {
          "output_type": "execute_result",
          "data": {
            "text/plain": [
              "Roma Norte, Cuauhtémoc, Distrito Federal                                  123\n",
              "Roma Sur, Cuauhtémoc, Distrito Federal                                    110\n",
              "Coahuila, Roma Norte, Cuauhtémoc, Distrito Federal                         70\n",
              "Snsn, Roma Norte, Cuauhtémoc, Distrito Federal                             46\n",
              "Departamentos Nuevos Roma Norte Coahuila, Cuauhtémoc, Distrito Federal     42\n",
              "                                                                         ... \n",
              "Sinaloa, Roma Sur, Cuauhtémoc, Distrito Federal                             1\n",
              "Chapultepec, Roma Norte, Cuauhtémoc, Distrito Federal                       1\n",
              "Pirineos, Roma, Monterrey, Nuevo León                                       1\n",
              "Hermosillo, Roma Sur, Cuauhtémoc, Distrito Federal                          1\n",
              "Sinaloa 20 , Roma Sur, Roma Sur, Cuauhtémoc, Distrito Federal               1\n",
              "Name: location, Length: 181, dtype: int64"
            ]
          },
          "metadata": {},
          "execution_count": 385
        }
      ]
    },
    {
      "cell_type": "markdown",
      "source": [
        "### ``price`` (extracción de datos)"
      ],
      "metadata": {
        "id": "DucCh8IFqzCR"
      }
    },
    {
      "cell_type": "code",
      "source": [
        "print(df[\"price\"].value_counts())           # se trata de una variable numerica con todos sus valores enteros\n",
        "data_cdmx[\"price\"] = df['price'].apply(lambda x: int(re.search(r'\\d+', x).group()))     # convertimos esta columna a datos de tipo numérico\n",
        "# data_cdmx.iloc[:,[0,3]]"
      ],
      "metadata": {
        "colab": {
          "base_uri": "https://localhost:8080/"
        },
        "id": "9C7rYtWrfWCT",
        "outputId": "f989a974-a444-481f-fc1b-f264043e3dfe"
      },
      "execution_count": 386,
      "outputs": [
        {
          "output_type": "stream",
          "name": "stdout",
          "text": [
            "4495000 pesos     9\n",
            "4369000 pesos     8\n",
            "7040000 pesos     8\n",
            "2980000 pesos     8\n",
            "6790000 pesos     7\n",
            "                 ..\n",
            "11500000 pesos    1\n",
            "9550000 pesos     1\n",
            "3516884 pesos     1\n",
            "7700000 pesos     1\n",
            "6270000 pesos     1\n",
            "Name: price, Length: 623, dtype: int64\n"
          ]
        }
      ]
    },
    {
      "cell_type": "markdown",
      "source": [
        "### Attributes (doble variable y trivial)"
      ],
      "metadata": {
        "id": "K3faFbywq2ti"
      }
    },
    {
      "cell_type": "code",
      "source": [
        "# Hay 2 variables comprimidas en una sola (la primera corresponde con la columna \"m2\" y la segunda con \"num_bedrooms\")\n",
        "print(df.iloc[:,5])"
      ],
      "metadata": {
        "colab": {
          "base_uri": "https://localhost:8080/"
        },
        "id": "KEEEVN7Kr3_n",
        "outputId": "2768a08f-1865-47e3-e866-1c6c2f28ea08"
      },
      "execution_count": 387,
      "outputs": [
        {
          "output_type": "stream",
          "name": "stdout",
          "text": [
            "0      127 m² construidos,2 recs.\n",
            "1        54 m² construidos,1 rec.\n",
            "2      163 m² construidos,3 recs.\n",
            "3       93 m² construidos,2 recs.\n",
            "4      103 m² construidos,2 recs.\n",
            "                  ...            \n",
            "976    140 m² construidos,2 recs.\n",
            "977     84 m² construidos,2 recs.\n",
            "978     88 m² construidos,2 recs.\n",
            "979    114 m² construidos,2 recs.\n",
            "980    114 m² construidos,3 recs.\n",
            "Name: attributes, Length: 981, dtype: object\n"
          ]
        }
      ]
    },
    {
      "cell_type": "code",
      "source": [
        "# Verificamos los datos que no son iguales en de la columna \"attribute\" con la columna \"m2\"\n",
        "df[df['attributes'].apply(lambda x: float(re.findall(r'\\d+', x)[0])) != df['m2']].iloc[:,[0,5,32]].head()"
      ],
      "metadata": {
        "colab": {
          "base_uri": "https://localhost:8080/",
          "height": 206
        },
        "id": "FErf4Ep7aSwf",
        "outputId": "6f5c5fdc-c288-4c37-ec97-01fe969c8a2c"
      },
      "execution_count": 388,
      "outputs": [
        {
          "output_type": "execute_result",
          "data": {
            "text/plain": [
              "                                             main_name  \\\n",
              "189  Preventa De Departamentos, Locales Y Oficinas ...   \n",
              "200  Venta Hermoso Depto Col. Roma Sur Baja California   \n",
              "205                         Departamentos Colonia Roma   \n",
              "218             Departamento En Venta Colonia Roma Sur   \n",
              "281  Departamento En Venta Estilo Ecléctico, Roma N...   \n",
              "\n",
              "                     attributes      m2  \n",
              "189  103 m² construidos,3 recs.  103.10  \n",
              "200   95 m² construidos,2 recs.   95.20  \n",
              "205    53 m² construidos,1 rec.   53.02  \n",
              "218  120 m² construidos,2 recs.  120.24  \n",
              "281   96 m² construidos,2 recs.   96.50  "
            ],
            "text/html": [
              "\n",
              "  <div id=\"df-a2dd445a-3435-4145-b24b-d0823b8851de\">\n",
              "    <div class=\"colab-df-container\">\n",
              "      <div>\n",
              "<style scoped>\n",
              "    .dataframe tbody tr th:only-of-type {\n",
              "        vertical-align: middle;\n",
              "    }\n",
              "\n",
              "    .dataframe tbody tr th {\n",
              "        vertical-align: top;\n",
              "    }\n",
              "\n",
              "    .dataframe thead th {\n",
              "        text-align: right;\n",
              "    }\n",
              "</style>\n",
              "<table border=\"1\" class=\"dataframe\">\n",
              "  <thead>\n",
              "    <tr style=\"text-align: right;\">\n",
              "      <th></th>\n",
              "      <th>main_name</th>\n",
              "      <th>attributes</th>\n",
              "      <th>m2</th>\n",
              "    </tr>\n",
              "  </thead>\n",
              "  <tbody>\n",
              "    <tr>\n",
              "      <th>189</th>\n",
              "      <td>Preventa De Departamentos, Locales Y Oficinas ...</td>\n",
              "      <td>103 m² construidos,3 recs.</td>\n",
              "      <td>103.10</td>\n",
              "    </tr>\n",
              "    <tr>\n",
              "      <th>200</th>\n",
              "      <td>Venta Hermoso Depto Col. Roma Sur Baja California</td>\n",
              "      <td>95 m² construidos,2 recs.</td>\n",
              "      <td>95.20</td>\n",
              "    </tr>\n",
              "    <tr>\n",
              "      <th>205</th>\n",
              "      <td>Departamentos Colonia Roma</td>\n",
              "      <td>53 m² construidos,1 rec.</td>\n",
              "      <td>53.02</td>\n",
              "    </tr>\n",
              "    <tr>\n",
              "      <th>218</th>\n",
              "      <td>Departamento En Venta Colonia Roma Sur</td>\n",
              "      <td>120 m² construidos,2 recs.</td>\n",
              "      <td>120.24</td>\n",
              "    </tr>\n",
              "    <tr>\n",
              "      <th>281</th>\n",
              "      <td>Departamento En Venta Estilo Ecléctico, Roma N...</td>\n",
              "      <td>96 m² construidos,2 recs.</td>\n",
              "      <td>96.50</td>\n",
              "    </tr>\n",
              "  </tbody>\n",
              "</table>\n",
              "</div>\n",
              "      <button class=\"colab-df-convert\" onclick=\"convertToInteractive('df-a2dd445a-3435-4145-b24b-d0823b8851de')\"\n",
              "              title=\"Convert this dataframe to an interactive table.\"\n",
              "              style=\"display:none;\">\n",
              "        \n",
              "  <svg xmlns=\"http://www.w3.org/2000/svg\" height=\"24px\"viewBox=\"0 0 24 24\"\n",
              "       width=\"24px\">\n",
              "    <path d=\"M0 0h24v24H0V0z\" fill=\"none\"/>\n",
              "    <path d=\"M18.56 5.44l.94 2.06.94-2.06 2.06-.94-2.06-.94-.94-2.06-.94 2.06-2.06.94zm-11 1L8.5 8.5l.94-2.06 2.06-.94-2.06-.94L8.5 2.5l-.94 2.06-2.06.94zm10 10l.94 2.06.94-2.06 2.06-.94-2.06-.94-.94-2.06-.94 2.06-2.06.94z\"/><path d=\"M17.41 7.96l-1.37-1.37c-.4-.4-.92-.59-1.43-.59-.52 0-1.04.2-1.43.59L10.3 9.45l-7.72 7.72c-.78.78-.78 2.05 0 2.83L4 21.41c.39.39.9.59 1.41.59.51 0 1.02-.2 1.41-.59l7.78-7.78 2.81-2.81c.8-.78.8-2.07 0-2.86zM5.41 20L4 18.59l7.72-7.72 1.47 1.35L5.41 20z\"/>\n",
              "  </svg>\n",
              "      </button>\n",
              "      \n",
              "  <style>\n",
              "    .colab-df-container {\n",
              "      display:flex;\n",
              "      flex-wrap:wrap;\n",
              "      gap: 12px;\n",
              "    }\n",
              "\n",
              "    .colab-df-convert {\n",
              "      background-color: #E8F0FE;\n",
              "      border: none;\n",
              "      border-radius: 50%;\n",
              "      cursor: pointer;\n",
              "      display: none;\n",
              "      fill: #1967D2;\n",
              "      height: 32px;\n",
              "      padding: 0 0 0 0;\n",
              "      width: 32px;\n",
              "    }\n",
              "\n",
              "    .colab-df-convert:hover {\n",
              "      background-color: #E2EBFA;\n",
              "      box-shadow: 0px 1px 2px rgba(60, 64, 67, 0.3), 0px 1px 3px 1px rgba(60, 64, 67, 0.15);\n",
              "      fill: #174EA6;\n",
              "    }\n",
              "\n",
              "    [theme=dark] .colab-df-convert {\n",
              "      background-color: #3B4455;\n",
              "      fill: #D2E3FC;\n",
              "    }\n",
              "\n",
              "    [theme=dark] .colab-df-convert:hover {\n",
              "      background-color: #434B5C;\n",
              "      box-shadow: 0px 1px 3px 1px rgba(0, 0, 0, 0.15);\n",
              "      filter: drop-shadow(0px 1px 2px rgba(0, 0, 0, 0.3));\n",
              "      fill: #FFFFFF;\n",
              "    }\n",
              "  </style>\n",
              "\n",
              "      <script>\n",
              "        const buttonEl =\n",
              "          document.querySelector('#df-a2dd445a-3435-4145-b24b-d0823b8851de button.colab-df-convert');\n",
              "        buttonEl.style.display =\n",
              "          google.colab.kernel.accessAllowed ? 'block' : 'none';\n",
              "\n",
              "        async function convertToInteractive(key) {\n",
              "          const element = document.querySelector('#df-a2dd445a-3435-4145-b24b-d0823b8851de');\n",
              "          const dataTable =\n",
              "            await google.colab.kernel.invokeFunction('convertToInteractive',\n",
              "                                                     [key], {});\n",
              "          if (!dataTable) return;\n",
              "\n",
              "          const docLinkHtml = 'Like what you see? Visit the ' +\n",
              "            '<a target=\"_blank\" href=https://colab.research.google.com/notebooks/data_table.ipynb>data table notebook</a>'\n",
              "            + ' to learn more about interactive tables.';\n",
              "          element.innerHTML = '';\n",
              "          dataTable['output_type'] = 'display_data';\n",
              "          await google.colab.output.renderOutput(dataTable, element);\n",
              "          const docLink = document.createElement('div');\n",
              "          docLink.innerHTML = docLinkHtml;\n",
              "          element.appendChild(docLink);\n",
              "        }\n",
              "      </script>\n",
              "    </div>\n",
              "  </div>\n",
              "  "
            ]
          },
          "metadata": {},
          "execution_count": 388
        }
      ]
    },
    {
      "cell_type": "code",
      "source": [
        "# Verificamos los casos si los datos no tienen el comportamiento esperado a pares en la columna \"attributes\" están bien definidos\n",
        "def tmp_func1(x):\n",
        "    if len(re.findall(r'\\d+', x))==2:\n",
        "        s = re.findall(r'\\d+', x)[1]\n",
        "    else: s = \"turip\"\n",
        "    return s\n",
        "df[df['attributes'].apply(tmp_func1) == \"turip\"].iloc[:,[0,5,30]]"
      ],
      "metadata": {
        "colab": {
          "base_uri": "https://localhost:8080/",
          "height": 394
        },
        "id": "WR0P2RQinnAv",
        "outputId": "b95e841b-85a8-4412-e9fa-0999fc13d129"
      },
      "execution_count": 389,
      "outputs": [
        {
          "output_type": "execute_result",
          "data": {
            "text/plain": [
              "                                             main_name  \\\n",
              "411              Venta Departamento Nuevo Colonia Roma   \n",
              "541                     Departamento En Venta Roma Sur   \n",
              "584                        Preventa En La Colonia Roma   \n",
              "601              Preventa De Departamentos En Roma Sur   \n",
              "619     Preventa En La Colonia Roma Norte, Chapultepec   \n",
              "631                   Excelente Pre Venta En Roma Sur!   \n",
              "717  Excelentes Departamentos En Pre Venta En Roma ...   \n",
              "788             Departamento En Venta, Col. Roma Norte   \n",
              "789  424587 Departamento  En Venta En Col. Roma En ...   \n",
              "915                 Preventa Departamento Zona Tec Mst   \n",
              "921               Preventa Departamento Zona Tec (mst)   \n",
              "\n",
              "                       attributes  num_bedrooms  \n",
              "411            141 m² construidos           2.0  \n",
              "541  7,210 m² construidos,2 recs.           2.0  \n",
              "584             80 m² construidos           2.0  \n",
              "601             64 m² construidos           2.0  \n",
              "619             34 m² construidos           2.0  \n",
              "631            100 m² construidos           2.0  \n",
              "717             93 m² construidos           2.0  \n",
              "788            153 m² construidos           2.0  \n",
              "789             40 m² construidos           2.0  \n",
              "915            118 m² construidos           2.0  \n",
              "921            112 m² construidos           2.0  "
            ],
            "text/html": [
              "\n",
              "  <div id=\"df-a4d161c5-24ac-4385-9202-aadfee7a07c4\">\n",
              "    <div class=\"colab-df-container\">\n",
              "      <div>\n",
              "<style scoped>\n",
              "    .dataframe tbody tr th:only-of-type {\n",
              "        vertical-align: middle;\n",
              "    }\n",
              "\n",
              "    .dataframe tbody tr th {\n",
              "        vertical-align: top;\n",
              "    }\n",
              "\n",
              "    .dataframe thead th {\n",
              "        text-align: right;\n",
              "    }\n",
              "</style>\n",
              "<table border=\"1\" class=\"dataframe\">\n",
              "  <thead>\n",
              "    <tr style=\"text-align: right;\">\n",
              "      <th></th>\n",
              "      <th>main_name</th>\n",
              "      <th>attributes</th>\n",
              "      <th>num_bedrooms</th>\n",
              "    </tr>\n",
              "  </thead>\n",
              "  <tbody>\n",
              "    <tr>\n",
              "      <th>411</th>\n",
              "      <td>Venta Departamento Nuevo Colonia Roma</td>\n",
              "      <td>141 m² construidos</td>\n",
              "      <td>2.0</td>\n",
              "    </tr>\n",
              "    <tr>\n",
              "      <th>541</th>\n",
              "      <td>Departamento En Venta Roma Sur</td>\n",
              "      <td>7,210 m² construidos,2 recs.</td>\n",
              "      <td>2.0</td>\n",
              "    </tr>\n",
              "    <tr>\n",
              "      <th>584</th>\n",
              "      <td>Preventa En La Colonia Roma</td>\n",
              "      <td>80 m² construidos</td>\n",
              "      <td>2.0</td>\n",
              "    </tr>\n",
              "    <tr>\n",
              "      <th>601</th>\n",
              "      <td>Preventa De Departamentos En Roma Sur</td>\n",
              "      <td>64 m² construidos</td>\n",
              "      <td>2.0</td>\n",
              "    </tr>\n",
              "    <tr>\n",
              "      <th>619</th>\n",
              "      <td>Preventa En La Colonia Roma Norte, Chapultepec</td>\n",
              "      <td>34 m² construidos</td>\n",
              "      <td>2.0</td>\n",
              "    </tr>\n",
              "    <tr>\n",
              "      <th>631</th>\n",
              "      <td>Excelente Pre Venta En Roma Sur!</td>\n",
              "      <td>100 m² construidos</td>\n",
              "      <td>2.0</td>\n",
              "    </tr>\n",
              "    <tr>\n",
              "      <th>717</th>\n",
              "      <td>Excelentes Departamentos En Pre Venta En Roma ...</td>\n",
              "      <td>93 m² construidos</td>\n",
              "      <td>2.0</td>\n",
              "    </tr>\n",
              "    <tr>\n",
              "      <th>788</th>\n",
              "      <td>Departamento En Venta, Col. Roma Norte</td>\n",
              "      <td>153 m² construidos</td>\n",
              "      <td>2.0</td>\n",
              "    </tr>\n",
              "    <tr>\n",
              "      <th>789</th>\n",
              "      <td>424587 Departamento  En Venta En Col. Roma En ...</td>\n",
              "      <td>40 m² construidos</td>\n",
              "      <td>2.0</td>\n",
              "    </tr>\n",
              "    <tr>\n",
              "      <th>915</th>\n",
              "      <td>Preventa Departamento Zona Tec Mst</td>\n",
              "      <td>118 m² construidos</td>\n",
              "      <td>2.0</td>\n",
              "    </tr>\n",
              "    <tr>\n",
              "      <th>921</th>\n",
              "      <td>Preventa Departamento Zona Tec (mst)</td>\n",
              "      <td>112 m² construidos</td>\n",
              "      <td>2.0</td>\n",
              "    </tr>\n",
              "  </tbody>\n",
              "</table>\n",
              "</div>\n",
              "      <button class=\"colab-df-convert\" onclick=\"convertToInteractive('df-a4d161c5-24ac-4385-9202-aadfee7a07c4')\"\n",
              "              title=\"Convert this dataframe to an interactive table.\"\n",
              "              style=\"display:none;\">\n",
              "        \n",
              "  <svg xmlns=\"http://www.w3.org/2000/svg\" height=\"24px\"viewBox=\"0 0 24 24\"\n",
              "       width=\"24px\">\n",
              "    <path d=\"M0 0h24v24H0V0z\" fill=\"none\"/>\n",
              "    <path d=\"M18.56 5.44l.94 2.06.94-2.06 2.06-.94-2.06-.94-.94-2.06-.94 2.06-2.06.94zm-11 1L8.5 8.5l.94-2.06 2.06-.94-2.06-.94L8.5 2.5l-.94 2.06-2.06.94zm10 10l.94 2.06.94-2.06 2.06-.94-2.06-.94-.94-2.06-.94 2.06-2.06.94z\"/><path d=\"M17.41 7.96l-1.37-1.37c-.4-.4-.92-.59-1.43-.59-.52 0-1.04.2-1.43.59L10.3 9.45l-7.72 7.72c-.78.78-.78 2.05 0 2.83L4 21.41c.39.39.9.59 1.41.59.51 0 1.02-.2 1.41-.59l7.78-7.78 2.81-2.81c.8-.78.8-2.07 0-2.86zM5.41 20L4 18.59l7.72-7.72 1.47 1.35L5.41 20z\"/>\n",
              "  </svg>\n",
              "      </button>\n",
              "      \n",
              "  <style>\n",
              "    .colab-df-container {\n",
              "      display:flex;\n",
              "      flex-wrap:wrap;\n",
              "      gap: 12px;\n",
              "    }\n",
              "\n",
              "    .colab-df-convert {\n",
              "      background-color: #E8F0FE;\n",
              "      border: none;\n",
              "      border-radius: 50%;\n",
              "      cursor: pointer;\n",
              "      display: none;\n",
              "      fill: #1967D2;\n",
              "      height: 32px;\n",
              "      padding: 0 0 0 0;\n",
              "      width: 32px;\n",
              "    }\n",
              "\n",
              "    .colab-df-convert:hover {\n",
              "      background-color: #E2EBFA;\n",
              "      box-shadow: 0px 1px 2px rgba(60, 64, 67, 0.3), 0px 1px 3px 1px rgba(60, 64, 67, 0.15);\n",
              "      fill: #174EA6;\n",
              "    }\n",
              "\n",
              "    [theme=dark] .colab-df-convert {\n",
              "      background-color: #3B4455;\n",
              "      fill: #D2E3FC;\n",
              "    }\n",
              "\n",
              "    [theme=dark] .colab-df-convert:hover {\n",
              "      background-color: #434B5C;\n",
              "      box-shadow: 0px 1px 3px 1px rgba(0, 0, 0, 0.15);\n",
              "      filter: drop-shadow(0px 1px 2px rgba(0, 0, 0, 0.3));\n",
              "      fill: #FFFFFF;\n",
              "    }\n",
              "  </style>\n",
              "\n",
              "      <script>\n",
              "        const buttonEl =\n",
              "          document.querySelector('#df-a4d161c5-24ac-4385-9202-aadfee7a07c4 button.colab-df-convert');\n",
              "        buttonEl.style.display =\n",
              "          google.colab.kernel.accessAllowed ? 'block' : 'none';\n",
              "\n",
              "        async function convertToInteractive(key) {\n",
              "          const element = document.querySelector('#df-a4d161c5-24ac-4385-9202-aadfee7a07c4');\n",
              "          const dataTable =\n",
              "            await google.colab.kernel.invokeFunction('convertToInteractive',\n",
              "                                                     [key], {});\n",
              "          if (!dataTable) return;\n",
              "\n",
              "          const docLinkHtml = 'Like what you see? Visit the ' +\n",
              "            '<a target=\"_blank\" href=https://colab.research.google.com/notebooks/data_table.ipynb>data table notebook</a>'\n",
              "            + ' to learn more about interactive tables.';\n",
              "          element.innerHTML = '';\n",
              "          dataTable['output_type'] = 'display_data';\n",
              "          await google.colab.output.renderOutput(dataTable, element);\n",
              "          const docLink = document.createElement('div');\n",
              "          docLink.innerHTML = docLinkHtml;\n",
              "          element.appendChild(docLink);\n",
              "        }\n",
              "      </script>\n",
              "    </div>\n",
              "  </div>\n",
              "  "
            ]
          },
          "metadata": {},
          "execution_count": 389
        }
      ]
    },
    {
      "cell_type": "markdown",
      "source": [
        "Dado que se repiten los datos de la columna ``attributes`` e incluso se encuentran mejor descritos en las columnas ``m2`` y ``num_bedrooms``, se elimina esta columna en ``data_cdmx``."
      ],
      "metadata": {
        "id": "YBGuPTXOc0cv"
      }
    },
    {
      "cell_type": "code",
      "source": [
        "data_cdmx = data_cdmx.drop(\"attributes\", axis=1);"
      ],
      "metadata": {
        "id": "axZlcOxgs-bX"
      },
      "execution_count": 390,
      "outputs": []
    },
    {
      "cell_type": "markdown",
      "source": [
        "### Timestamp (repetida)"
      ],
      "metadata": {
        "id": "u3fcYmTbuasn"
      }
    },
    {
      "cell_type": "code",
      "source": [
        "df.iloc[:,6].value_counts()\n",
        "data_cdmx = data_cdmx.drop(\"timestamp\", axis=1)"
      ],
      "metadata": {
        "id": "av9PSD_GtjOw"
      },
      "execution_count": 391,
      "outputs": []
    },
    {
      "cell_type": "markdown",
      "source": [
        "### ``since`` contra ``days_on_site`` y ``since_value`` (extracción de datos)"
      ],
      "metadata": {
        "id": "Eu7Mi4gFugef"
      }
    },
    {
      "cell_type": "code",
      "source": [
        "df.iloc[:, 10:19].head()\n",
        "df.iloc[:, [0, 9, 17, 18]].head()\n"
      ],
      "metadata": {
        "colab": {
          "base_uri": "https://localhost:8080/",
          "height": 206
        },
        "id": "eFjseo0oLL5Q",
        "outputId": "47036a08-7225-42c6-df70-babbae264944"
      },
      "execution_count": 392,
      "outputs": [
        {
          "output_type": "execute_result",
          "data": {
            "text/plain": [
              "                                           main_name  \\\n",
              "0                          Departamento - Roma Norte   \n",
              "1        Preventa Exclusiva · Terraloza Roma Norte ·   \n",
              "2                     Townhouse Único En La Roma Sur   \n",
              "3  Departamento En Roma Sur, Cuauhtémoc Con 2 Rec...   \n",
              "4           Últimos Deptos En Preventa En Roma Norte   \n",
              "\n",
              "                                 since  since_value  days_on_site  \n",
              "0                Publicado hace 5 días            5           5.0  \n",
              "1                Publicado hace 7 días            7           7.0  \n",
              "2                Publicado hace 4 días            4           4.0  \n",
              "3  Publicado hace 5 meses por {action}            5         150.0  \n",
              "4               Publicado hace 52 días           52          52.0  "
            ],
            "text/html": [
              "\n",
              "  <div id=\"df-9fba45c1-4e3c-428f-a9ab-7faf614503f7\">\n",
              "    <div class=\"colab-df-container\">\n",
              "      <div>\n",
              "<style scoped>\n",
              "    .dataframe tbody tr th:only-of-type {\n",
              "        vertical-align: middle;\n",
              "    }\n",
              "\n",
              "    .dataframe tbody tr th {\n",
              "        vertical-align: top;\n",
              "    }\n",
              "\n",
              "    .dataframe thead th {\n",
              "        text-align: right;\n",
              "    }\n",
              "</style>\n",
              "<table border=\"1\" class=\"dataframe\">\n",
              "  <thead>\n",
              "    <tr style=\"text-align: right;\">\n",
              "      <th></th>\n",
              "      <th>main_name</th>\n",
              "      <th>since</th>\n",
              "      <th>since_value</th>\n",
              "      <th>days_on_site</th>\n",
              "    </tr>\n",
              "  </thead>\n",
              "  <tbody>\n",
              "    <tr>\n",
              "      <th>0</th>\n",
              "      <td>Departamento - Roma Norte</td>\n",
              "      <td>Publicado hace 5 días</td>\n",
              "      <td>5</td>\n",
              "      <td>5.0</td>\n",
              "    </tr>\n",
              "    <tr>\n",
              "      <th>1</th>\n",
              "      <td>Preventa Exclusiva · Terraloza Roma Norte ·</td>\n",
              "      <td>Publicado hace 7 días</td>\n",
              "      <td>7</td>\n",
              "      <td>7.0</td>\n",
              "    </tr>\n",
              "    <tr>\n",
              "      <th>2</th>\n",
              "      <td>Townhouse Único En La Roma Sur</td>\n",
              "      <td>Publicado hace 4 días</td>\n",
              "      <td>4</td>\n",
              "      <td>4.0</td>\n",
              "    </tr>\n",
              "    <tr>\n",
              "      <th>3</th>\n",
              "      <td>Departamento En Roma Sur, Cuauhtémoc Con 2 Rec...</td>\n",
              "      <td>Publicado hace 5 meses por {action}</td>\n",
              "      <td>5</td>\n",
              "      <td>150.0</td>\n",
              "    </tr>\n",
              "    <tr>\n",
              "      <th>4</th>\n",
              "      <td>Últimos Deptos En Preventa En Roma Norte</td>\n",
              "      <td>Publicado hace 52 días</td>\n",
              "      <td>52</td>\n",
              "      <td>52.0</td>\n",
              "    </tr>\n",
              "  </tbody>\n",
              "</table>\n",
              "</div>\n",
              "      <button class=\"colab-df-convert\" onclick=\"convertToInteractive('df-9fba45c1-4e3c-428f-a9ab-7faf614503f7')\"\n",
              "              title=\"Convert this dataframe to an interactive table.\"\n",
              "              style=\"display:none;\">\n",
              "        \n",
              "  <svg xmlns=\"http://www.w3.org/2000/svg\" height=\"24px\"viewBox=\"0 0 24 24\"\n",
              "       width=\"24px\">\n",
              "    <path d=\"M0 0h24v24H0V0z\" fill=\"none\"/>\n",
              "    <path d=\"M18.56 5.44l.94 2.06.94-2.06 2.06-.94-2.06-.94-.94-2.06-.94 2.06-2.06.94zm-11 1L8.5 8.5l.94-2.06 2.06-.94-2.06-.94L8.5 2.5l-.94 2.06-2.06.94zm10 10l.94 2.06.94-2.06 2.06-.94-2.06-.94-.94-2.06-.94 2.06-2.06.94z\"/><path d=\"M17.41 7.96l-1.37-1.37c-.4-.4-.92-.59-1.43-.59-.52 0-1.04.2-1.43.59L10.3 9.45l-7.72 7.72c-.78.78-.78 2.05 0 2.83L4 21.41c.39.39.9.59 1.41.59.51 0 1.02-.2 1.41-.59l7.78-7.78 2.81-2.81c.8-.78.8-2.07 0-2.86zM5.41 20L4 18.59l7.72-7.72 1.47 1.35L5.41 20z\"/>\n",
              "  </svg>\n",
              "      </button>\n",
              "      \n",
              "  <style>\n",
              "    .colab-df-container {\n",
              "      display:flex;\n",
              "      flex-wrap:wrap;\n",
              "      gap: 12px;\n",
              "    }\n",
              "\n",
              "    .colab-df-convert {\n",
              "      background-color: #E8F0FE;\n",
              "      border: none;\n",
              "      border-radius: 50%;\n",
              "      cursor: pointer;\n",
              "      display: none;\n",
              "      fill: #1967D2;\n",
              "      height: 32px;\n",
              "      padding: 0 0 0 0;\n",
              "      width: 32px;\n",
              "    }\n",
              "\n",
              "    .colab-df-convert:hover {\n",
              "      background-color: #E2EBFA;\n",
              "      box-shadow: 0px 1px 2px rgba(60, 64, 67, 0.3), 0px 1px 3px 1px rgba(60, 64, 67, 0.15);\n",
              "      fill: #174EA6;\n",
              "    }\n",
              "\n",
              "    [theme=dark] .colab-df-convert {\n",
              "      background-color: #3B4455;\n",
              "      fill: #D2E3FC;\n",
              "    }\n",
              "\n",
              "    [theme=dark] .colab-df-convert:hover {\n",
              "      background-color: #434B5C;\n",
              "      box-shadow: 0px 1px 3px 1px rgba(0, 0, 0, 0.15);\n",
              "      filter: drop-shadow(0px 1px 2px rgba(0, 0, 0, 0.3));\n",
              "      fill: #FFFFFF;\n",
              "    }\n",
              "  </style>\n",
              "\n",
              "      <script>\n",
              "        const buttonEl =\n",
              "          document.querySelector('#df-9fba45c1-4e3c-428f-a9ab-7faf614503f7 button.colab-df-convert');\n",
              "        buttonEl.style.display =\n",
              "          google.colab.kernel.accessAllowed ? 'block' : 'none';\n",
              "\n",
              "        async function convertToInteractive(key) {\n",
              "          const element = document.querySelector('#df-9fba45c1-4e3c-428f-a9ab-7faf614503f7');\n",
              "          const dataTable =\n",
              "            await google.colab.kernel.invokeFunction('convertToInteractive',\n",
              "                                                     [key], {});\n",
              "          if (!dataTable) return;\n",
              "\n",
              "          const docLinkHtml = 'Like what you see? Visit the ' +\n",
              "            '<a target=\"_blank\" href=https://colab.research.google.com/notebooks/data_table.ipynb>data table notebook</a>'\n",
              "            + ' to learn more about interactive tables.';\n",
              "          element.innerHTML = '';\n",
              "          dataTable['output_type'] = 'display_data';\n",
              "          await google.colab.output.renderOutput(dataTable, element);\n",
              "          const docLink = document.createElement('div');\n",
              "          docLink.innerHTML = docLinkHtml;\n",
              "          element.appendChild(docLink);\n",
              "        }\n",
              "      </script>\n",
              "    </div>\n",
              "  </div>\n",
              "  "
            ]
          },
          "metadata": {},
          "execution_count": 392
        }
      ]
    },
    {
      "cell_type": "code",
      "source": [
        "# Refinamos el calculo de los días totales para medirlo en función de un mes y año promedio\n",
        "def tmp_func2(x):\n",
        "    tmp_var = int(re.findall('\\d+', x)[0])\n",
        "    if re.findall(\"meses\", x) == ['meses']:\n",
        "        tmp_var *= 30.42\n",
        "    if re.findall(\"años\", x) == [\"años\"]:\n",
        "        tmp_var *= 365.24\n",
        "    return int(round(tmp_var))\n",
        "\n",
        "data_cdmx['since'] = df['since'].apply(tmp_func2)\n",
        "data_cdmx[[\"main_name\", \"since\", \"days_on_site\"]].head()"
      ],
      "metadata": {
        "colab": {
          "base_uri": "https://localhost:8080/",
          "height": 206
        },
        "id": "NSHwVnasunxI",
        "outputId": "ce67d0ad-6b6f-4427-d8de-fb82a09e620e"
      },
      "execution_count": 393,
      "outputs": [
        {
          "output_type": "execute_result",
          "data": {
            "text/plain": [
              "                                           main_name  since  days_on_site\n",
              "0                          Departamento - Roma Norte      5           5.0\n",
              "1        Preventa Exclusiva · Terraloza Roma Norte ·      7           7.0\n",
              "2                     Townhouse Único En La Roma Sur      4           4.0\n",
              "3  Departamento En Roma Sur, Cuauhtémoc Con 2 Rec...    152         150.0\n",
              "4           Últimos Deptos En Preventa En Roma Norte     52          52.0"
            ],
            "text/html": [
              "\n",
              "  <div id=\"df-9a124984-23db-4b6b-b1f3-054eebaa43d5\">\n",
              "    <div class=\"colab-df-container\">\n",
              "      <div>\n",
              "<style scoped>\n",
              "    .dataframe tbody tr th:only-of-type {\n",
              "        vertical-align: middle;\n",
              "    }\n",
              "\n",
              "    .dataframe tbody tr th {\n",
              "        vertical-align: top;\n",
              "    }\n",
              "\n",
              "    .dataframe thead th {\n",
              "        text-align: right;\n",
              "    }\n",
              "</style>\n",
              "<table border=\"1\" class=\"dataframe\">\n",
              "  <thead>\n",
              "    <tr style=\"text-align: right;\">\n",
              "      <th></th>\n",
              "      <th>main_name</th>\n",
              "      <th>since</th>\n",
              "      <th>days_on_site</th>\n",
              "    </tr>\n",
              "  </thead>\n",
              "  <tbody>\n",
              "    <tr>\n",
              "      <th>0</th>\n",
              "      <td>Departamento - Roma Norte</td>\n",
              "      <td>5</td>\n",
              "      <td>5.0</td>\n",
              "    </tr>\n",
              "    <tr>\n",
              "      <th>1</th>\n",
              "      <td>Preventa Exclusiva · Terraloza Roma Norte ·</td>\n",
              "      <td>7</td>\n",
              "      <td>7.0</td>\n",
              "    </tr>\n",
              "    <tr>\n",
              "      <th>2</th>\n",
              "      <td>Townhouse Único En La Roma Sur</td>\n",
              "      <td>4</td>\n",
              "      <td>4.0</td>\n",
              "    </tr>\n",
              "    <tr>\n",
              "      <th>3</th>\n",
              "      <td>Departamento En Roma Sur, Cuauhtémoc Con 2 Rec...</td>\n",
              "      <td>152</td>\n",
              "      <td>150.0</td>\n",
              "    </tr>\n",
              "    <tr>\n",
              "      <th>4</th>\n",
              "      <td>Últimos Deptos En Preventa En Roma Norte</td>\n",
              "      <td>52</td>\n",
              "      <td>52.0</td>\n",
              "    </tr>\n",
              "  </tbody>\n",
              "</table>\n",
              "</div>\n",
              "      <button class=\"colab-df-convert\" onclick=\"convertToInteractive('df-9a124984-23db-4b6b-b1f3-054eebaa43d5')\"\n",
              "              title=\"Convert this dataframe to an interactive table.\"\n",
              "              style=\"display:none;\">\n",
              "        \n",
              "  <svg xmlns=\"http://www.w3.org/2000/svg\" height=\"24px\"viewBox=\"0 0 24 24\"\n",
              "       width=\"24px\">\n",
              "    <path d=\"M0 0h24v24H0V0z\" fill=\"none\"/>\n",
              "    <path d=\"M18.56 5.44l.94 2.06.94-2.06 2.06-.94-2.06-.94-.94-2.06-.94 2.06-2.06.94zm-11 1L8.5 8.5l.94-2.06 2.06-.94-2.06-.94L8.5 2.5l-.94 2.06-2.06.94zm10 10l.94 2.06.94-2.06 2.06-.94-2.06-.94-.94-2.06-.94 2.06-2.06.94z\"/><path d=\"M17.41 7.96l-1.37-1.37c-.4-.4-.92-.59-1.43-.59-.52 0-1.04.2-1.43.59L10.3 9.45l-7.72 7.72c-.78.78-.78 2.05 0 2.83L4 21.41c.39.39.9.59 1.41.59.51 0 1.02-.2 1.41-.59l7.78-7.78 2.81-2.81c.8-.78.8-2.07 0-2.86zM5.41 20L4 18.59l7.72-7.72 1.47 1.35L5.41 20z\"/>\n",
              "  </svg>\n",
              "      </button>\n",
              "      \n",
              "  <style>\n",
              "    .colab-df-container {\n",
              "      display:flex;\n",
              "      flex-wrap:wrap;\n",
              "      gap: 12px;\n",
              "    }\n",
              "\n",
              "    .colab-df-convert {\n",
              "      background-color: #E8F0FE;\n",
              "      border: none;\n",
              "      border-radius: 50%;\n",
              "      cursor: pointer;\n",
              "      display: none;\n",
              "      fill: #1967D2;\n",
              "      height: 32px;\n",
              "      padding: 0 0 0 0;\n",
              "      width: 32px;\n",
              "    }\n",
              "\n",
              "    .colab-df-convert:hover {\n",
              "      background-color: #E2EBFA;\n",
              "      box-shadow: 0px 1px 2px rgba(60, 64, 67, 0.3), 0px 1px 3px 1px rgba(60, 64, 67, 0.15);\n",
              "      fill: #174EA6;\n",
              "    }\n",
              "\n",
              "    [theme=dark] .colab-df-convert {\n",
              "      background-color: #3B4455;\n",
              "      fill: #D2E3FC;\n",
              "    }\n",
              "\n",
              "    [theme=dark] .colab-df-convert:hover {\n",
              "      background-color: #434B5C;\n",
              "      box-shadow: 0px 1px 3px 1px rgba(0, 0, 0, 0.15);\n",
              "      filter: drop-shadow(0px 1px 2px rgba(0, 0, 0, 0.3));\n",
              "      fill: #FFFFFF;\n",
              "    }\n",
              "  </style>\n",
              "\n",
              "      <script>\n",
              "        const buttonEl =\n",
              "          document.querySelector('#df-9a124984-23db-4b6b-b1f3-054eebaa43d5 button.colab-df-convert');\n",
              "        buttonEl.style.display =\n",
              "          google.colab.kernel.accessAllowed ? 'block' : 'none';\n",
              "\n",
              "        async function convertToInteractive(key) {\n",
              "          const element = document.querySelector('#df-9a124984-23db-4b6b-b1f3-054eebaa43d5');\n",
              "          const dataTable =\n",
              "            await google.colab.kernel.invokeFunction('convertToInteractive',\n",
              "                                                     [key], {});\n",
              "          if (!dataTable) return;\n",
              "\n",
              "          const docLinkHtml = 'Like what you see? Visit the ' +\n",
              "            '<a target=\"_blank\" href=https://colab.research.google.com/notebooks/data_table.ipynb>data table notebook</a>'\n",
              "            + ' to learn more about interactive tables.';\n",
              "          element.innerHTML = '';\n",
              "          dataTable['output_type'] = 'display_data';\n",
              "          await google.colab.output.renderOutput(dataTable, element);\n",
              "          const docLink = document.createElement('div');\n",
              "          docLink.innerHTML = docLinkHtml;\n",
              "          element.appendChild(docLink);\n",
              "        }\n",
              "      </script>\n",
              "    </div>\n",
              "  </div>\n",
              "  "
            ]
          },
          "metadata": {},
          "execution_count": 393
        }
      ]
    },
    {
      "cell_type": "code",
      "source": [
        "# Remplazamos estos valores en \"days_on_site\" y eliminamos las otras variables en \"data_cdmx\"\n",
        "data_cdmx['days_on_site'] = df['since']\n",
        "data_cdmx = data_cdmx.drop([\"since\", \"since_value\"], axis=1)"
      ],
      "metadata": {
        "id": "SpKbJxvWMGeh"
      },
      "execution_count": 394,
      "outputs": []
    },
    {
      "cell_type": "markdown",
      "source": [
        "### ``price_currency`` (repetida)"
      ],
      "metadata": {
        "id": "Y832O6bmHKhT"
      }
    },
    {
      "cell_type": "code",
      "source": [
        "df.iloc[:,15].value_counts()\n",
        "data_cdmx = data_cdmx.drop(\"price_currency\", axis=1)"
      ],
      "metadata": {
        "id": "C9kEC1rzHJzV"
      },
      "execution_count": 395,
      "outputs": []
    },
    {
      "cell_type": "markdown",
      "source": [
        "### ``amenities`` (completar valores nulos)"
      ],
      "metadata": {
        "id": "YxJtdidZIKZD"
      }
    },
    {
      "cell_type": "code",
      "source": [
        "# Falta el caso para cuando no hay amenidades\n",
        "df.iloc[:,19].unique()"
      ],
      "metadata": {
        "colab": {
          "base_uri": "https://localhost:8080/"
        },
        "id": "MyoDLG41HJnP",
        "outputId": "5dc9679e-ad68-4631-8bce-bca779e7f779"
      },
      "execution_count": 396,
      "outputs": [
        {
          "output_type": "execute_result",
          "data": {
            "text/plain": [
              "array([ 3.,  2., nan,  4.,  5.,  6.,  7.,  8.,  1.])"
            ]
          },
          "metadata": {},
          "execution_count": 396
        }
      ]
    },
    {
      "cell_type": "code",
      "source": [
        "# Rellenamos estos valores nulos con un 0\n",
        "data_cdmx[\"amenities\"] = df[\"amenities\"].fillna(0)\n",
        "data_cdmx[\"amenities\"].unique()"
      ],
      "metadata": {
        "colab": {
          "base_uri": "https://localhost:8080/"
        },
        "id": "NYSafBETIWq6",
        "outputId": "f68c078a-d284-4b9a-8765-65c4200f00b9"
      },
      "execution_count": 397,
      "outputs": [
        {
          "output_type": "execute_result",
          "data": {
            "text/plain": [
              "array([3., 2., 0., 4., 5., 6., 7., 8., 1.])"
            ]
          },
          "metadata": {},
          "execution_count": 397
        }
      ]
    },
    {
      "cell_type": "markdown",
      "source": [
        "### ``age_in_years`` (repetida)"
      ],
      "metadata": {
        "id": "mhhIVni8QXI4"
      }
    },
    {
      "cell_type": "code",
      "source": [
        "df.iloc[:,20].value_counts()\n",
        "data_cdmx = data_cdmx.drop(\"age_in_years\", axis=1)"
      ],
      "metadata": {
        "id": "9j8u39oUIWnp"
      },
      "execution_count": 398,
      "outputs": []
    },
    {
      "cell_type": "markdown",
      "source": [
        "### ``bathrooms`` (dato extraño)"
      ],
      "metadata": {
        "id": "qdRDr7mUQ6NW"
      }
    },
    {
      "cell_type": "code",
      "source": [
        "df.iloc[:,21].value_counts()"
      ],
      "metadata": {
        "colab": {
          "base_uri": "https://localhost:8080/"
        },
        "id": "caT-T7kXRb8r",
        "outputId": "eed2f7e9-c4e9-4831-9a03-ebb55490975f"
      },
      "execution_count": 399,
      "outputs": [
        {
          "output_type": "execute_result",
          "data": {
            "text/plain": [
              "2.0     686\n",
              "1.0     178\n",
              "3.0     105\n",
              "4.0      10\n",
              "5.0       1\n",
              "23.0      1\n",
              "Name: bathrooms, dtype: int64"
            ]
          },
          "metadata": {},
          "execution_count": 399
        }
      ]
    },
    {
      "cell_type": "code",
      "source": [
        "# Hay un dato inconsistente ya que tener 23 baños en un espacio de 91 m2 no tiene sentido\n",
        "df[(df.iloc[:,21] == 23)].iloc[:, 18:]"
      ],
      "metadata": {
        "colab": {
          "base_uri": "https://localhost:8080/",
          "height": 145
        },
        "id": "iHKKnRf7QbZF",
        "outputId": "f8e84cbf-0cd9-4ab2-c9a4-bd4177bac92c"
      },
      "execution_count": 400,
      "outputs": [
        {
          "output_type": "execute_result",
          "data": {
            "text/plain": [
              "     days_on_site  amenities  age_in_years  bathrooms  cellars  num_floors  \\\n",
              "687          60.0        NaN           0.0       23.0      NaN         NaN   \n",
              "\n",
              "    monthly_fee  apartments_per_floor disposition  parking_lots  \\\n",
              "687         NaN                   NaN         NaN             1   \n",
              "\n",
              "     floor_situated orientation  num_bedrooms department_type    m2  \\\n",
              "687             NaN         NaN           2.0             NaN  91.0   \n",
              "\n",
              "     final_price  price_square_meter  \n",
              "687    7874000.0        86527.472527  "
            ],
            "text/html": [
              "\n",
              "  <div id=\"df-aad01afc-a06b-4548-865f-b18c00b584ba\">\n",
              "    <div class=\"colab-df-container\">\n",
              "      <div>\n",
              "<style scoped>\n",
              "    .dataframe tbody tr th:only-of-type {\n",
              "        vertical-align: middle;\n",
              "    }\n",
              "\n",
              "    .dataframe tbody tr th {\n",
              "        vertical-align: top;\n",
              "    }\n",
              "\n",
              "    .dataframe thead th {\n",
              "        text-align: right;\n",
              "    }\n",
              "</style>\n",
              "<table border=\"1\" class=\"dataframe\">\n",
              "  <thead>\n",
              "    <tr style=\"text-align: right;\">\n",
              "      <th></th>\n",
              "      <th>days_on_site</th>\n",
              "      <th>amenities</th>\n",
              "      <th>age_in_years</th>\n",
              "      <th>bathrooms</th>\n",
              "      <th>cellars</th>\n",
              "      <th>num_floors</th>\n",
              "      <th>monthly_fee</th>\n",
              "      <th>apartments_per_floor</th>\n",
              "      <th>disposition</th>\n",
              "      <th>parking_lots</th>\n",
              "      <th>floor_situated</th>\n",
              "      <th>orientation</th>\n",
              "      <th>num_bedrooms</th>\n",
              "      <th>department_type</th>\n",
              "      <th>m2</th>\n",
              "      <th>final_price</th>\n",
              "      <th>price_square_meter</th>\n",
              "    </tr>\n",
              "  </thead>\n",
              "  <tbody>\n",
              "    <tr>\n",
              "      <th>687</th>\n",
              "      <td>60.0</td>\n",
              "      <td>NaN</td>\n",
              "      <td>0.0</td>\n",
              "      <td>23.0</td>\n",
              "      <td>NaN</td>\n",
              "      <td>NaN</td>\n",
              "      <td>NaN</td>\n",
              "      <td>NaN</td>\n",
              "      <td>NaN</td>\n",
              "      <td>1</td>\n",
              "      <td>NaN</td>\n",
              "      <td>NaN</td>\n",
              "      <td>2.0</td>\n",
              "      <td>NaN</td>\n",
              "      <td>91.0</td>\n",
              "      <td>7874000.0</td>\n",
              "      <td>86527.472527</td>\n",
              "    </tr>\n",
              "  </tbody>\n",
              "</table>\n",
              "</div>\n",
              "      <button class=\"colab-df-convert\" onclick=\"convertToInteractive('df-aad01afc-a06b-4548-865f-b18c00b584ba')\"\n",
              "              title=\"Convert this dataframe to an interactive table.\"\n",
              "              style=\"display:none;\">\n",
              "        \n",
              "  <svg xmlns=\"http://www.w3.org/2000/svg\" height=\"24px\"viewBox=\"0 0 24 24\"\n",
              "       width=\"24px\">\n",
              "    <path d=\"M0 0h24v24H0V0z\" fill=\"none\"/>\n",
              "    <path d=\"M18.56 5.44l.94 2.06.94-2.06 2.06-.94-2.06-.94-.94-2.06-.94 2.06-2.06.94zm-11 1L8.5 8.5l.94-2.06 2.06-.94-2.06-.94L8.5 2.5l-.94 2.06-2.06.94zm10 10l.94 2.06.94-2.06 2.06-.94-2.06-.94-.94-2.06-.94 2.06-2.06.94z\"/><path d=\"M17.41 7.96l-1.37-1.37c-.4-.4-.92-.59-1.43-.59-.52 0-1.04.2-1.43.59L10.3 9.45l-7.72 7.72c-.78.78-.78 2.05 0 2.83L4 21.41c.39.39.9.59 1.41.59.51 0 1.02-.2 1.41-.59l7.78-7.78 2.81-2.81c.8-.78.8-2.07 0-2.86zM5.41 20L4 18.59l7.72-7.72 1.47 1.35L5.41 20z\"/>\n",
              "  </svg>\n",
              "      </button>\n",
              "      \n",
              "  <style>\n",
              "    .colab-df-container {\n",
              "      display:flex;\n",
              "      flex-wrap:wrap;\n",
              "      gap: 12px;\n",
              "    }\n",
              "\n",
              "    .colab-df-convert {\n",
              "      background-color: #E8F0FE;\n",
              "      border: none;\n",
              "      border-radius: 50%;\n",
              "      cursor: pointer;\n",
              "      display: none;\n",
              "      fill: #1967D2;\n",
              "      height: 32px;\n",
              "      padding: 0 0 0 0;\n",
              "      width: 32px;\n",
              "    }\n",
              "\n",
              "    .colab-df-convert:hover {\n",
              "      background-color: #E2EBFA;\n",
              "      box-shadow: 0px 1px 2px rgba(60, 64, 67, 0.3), 0px 1px 3px 1px rgba(60, 64, 67, 0.15);\n",
              "      fill: #174EA6;\n",
              "    }\n",
              "\n",
              "    [theme=dark] .colab-df-convert {\n",
              "      background-color: #3B4455;\n",
              "      fill: #D2E3FC;\n",
              "    }\n",
              "\n",
              "    [theme=dark] .colab-df-convert:hover {\n",
              "      background-color: #434B5C;\n",
              "      box-shadow: 0px 1px 3px 1px rgba(0, 0, 0, 0.15);\n",
              "      filter: drop-shadow(0px 1px 2px rgba(0, 0, 0, 0.3));\n",
              "      fill: #FFFFFF;\n",
              "    }\n",
              "  </style>\n",
              "\n",
              "      <script>\n",
              "        const buttonEl =\n",
              "          document.querySelector('#df-aad01afc-a06b-4548-865f-b18c00b584ba button.colab-df-convert');\n",
              "        buttonEl.style.display =\n",
              "          google.colab.kernel.accessAllowed ? 'block' : 'none';\n",
              "\n",
              "        async function convertToInteractive(key) {\n",
              "          const element = document.querySelector('#df-aad01afc-a06b-4548-865f-b18c00b584ba');\n",
              "          const dataTable =\n",
              "            await google.colab.kernel.invokeFunction('convertToInteractive',\n",
              "                                                     [key], {});\n",
              "          if (!dataTable) return;\n",
              "\n",
              "          const docLinkHtml = 'Like what you see? Visit the ' +\n",
              "            '<a target=\"_blank\" href=https://colab.research.google.com/notebooks/data_table.ipynb>data table notebook</a>'\n",
              "            + ' to learn more about interactive tables.';\n",
              "          element.innerHTML = '';\n",
              "          dataTable['output_type'] = 'display_data';\n",
              "          await google.colab.output.renderOutput(dataTable, element);\n",
              "          const docLink = document.createElement('div');\n",
              "          docLink.innerHTML = docLinkHtml;\n",
              "          element.appendChild(docLink);\n",
              "        }\n",
              "      </script>\n",
              "    </div>\n",
              "  </div>\n",
              "  "
            ]
          },
          "metadata": {},
          "execution_count": 400
        }
      ]
    },
    {
      "cell_type": "code",
      "source": [
        "# Eliminamos este dato en la tabla modificada\n",
        "data_cdmx = data_cdmx.drop(687)\n",
        "data_cdmx[\"bathrooms\"].value_counts()"
      ],
      "metadata": {
        "colab": {
          "base_uri": "https://localhost:8080/"
        },
        "id": "z-lIydliQbi2",
        "outputId": "767938b7-2ebb-40e8-fedb-dd9b0921d750"
      },
      "execution_count": 401,
      "outputs": [
        {
          "output_type": "execute_result",
          "data": {
            "text/plain": [
              "2.0    686\n",
              "1.0    178\n",
              "3.0    105\n",
              "4.0     10\n",
              "5.0      1\n",
              "Name: bathrooms, dtype: int64"
            ]
          },
          "metadata": {},
          "execution_count": 401
        }
      ]
    },
    {
      "cell_type": "markdown",
      "source": [
        "### ``cellars`` (completar valores nulos)"
      ],
      "metadata": {
        "id": "bG44jCUITfnj"
      }
    },
    {
      "cell_type": "code",
      "source": [
        "# Falta el caso para cuando no tienen almacenes/bodegas\n",
        "df.iloc[:,22].unique()"
      ],
      "metadata": {
        "colab": {
          "base_uri": "https://localhost:8080/"
        },
        "id": "tEaFieH9QbpY",
        "outputId": "63ad9da0-1c8e-459d-d176-5de16fe44635"
      },
      "execution_count": 402,
      "outputs": [
        {
          "output_type": "execute_result",
          "data": {
            "text/plain": [
              "array([nan,  2.,  1.])"
            ]
          },
          "metadata": {},
          "execution_count": 402
        }
      ]
    },
    {
      "cell_type": "code",
      "source": [
        "# Rellenamos los valores nulos con un 0\n",
        "data_cdmx[\"cellars\"] = df[\"cellars\"].fillna(0)\n",
        "data_cdmx[\"cellars\"].unique()"
      ],
      "metadata": {
        "colab": {
          "base_uri": "https://localhost:8080/"
        },
        "id": "SvLV5Mt5US9z",
        "outputId": "2782677d-ada4-4d8c-f918-6154b856b4d4"
      },
      "execution_count": 403,
      "outputs": [
        {
          "output_type": "execute_result",
          "data": {
            "text/plain": [
              "array([0., 2., 1.])"
            ]
          },
          "metadata": {},
          "execution_count": 403
        }
      ]
    },
    {
      "cell_type": "markdown",
      "source": [
        "### ``monthly_fee`` sección"
      ],
      "metadata": {
        "id": "tuO2OTacUYy2"
      }
    },
    {
      "cell_type": "code",
      "source": [
        "# df.iloc[:,24].value_counts()\n",
        "df.iloc[:,24]"
      ],
      "metadata": {
        "colab": {
          "base_uri": "https://localhost:8080/"
        },
        "id": "cMByMAakUXuW",
        "outputId": "3fe04e06-fdb5-4356-b8f8-cb8d45a9fa03"
      },
      "execution_count": 404,
      "outputs": [
        {
          "output_type": "execute_result",
          "data": {
            "text/plain": [
              "0        0 MXN\n",
              "1          NaN\n",
              "2          NaN\n",
              "3      853 MXN\n",
              "4          NaN\n",
              "        ...   \n",
              "976        NaN\n",
              "977        NaN\n",
              "978        NaN\n",
              "979        NaN\n",
              "980        NaN\n",
              "Name: monthly_fee, Length: 981, dtype: object"
            ]
          },
          "metadata": {},
          "execution_count": 404
        }
      ]
    },
    {
      "cell_type": "code",
      "source": [
        "# Primero comppletamos los valores nulos con un 0\n",
        "data_cdmx[\"monthly_fee\"] = df[\"monthly_fee\"].fillna(\"0\")\n",
        "data_cdmx[\"monthly_fee\"].unique()"
      ],
      "metadata": {
        "colab": {
          "base_uri": "https://localhost:8080/"
        },
        "id": "LmAJ9gAFWQvg",
        "outputId": "5b9f7c20-fcb3-49e1-cb8d-4921879862be"
      },
      "execution_count": 405,
      "outputs": [
        {
          "output_type": "execute_result",
          "data": {
            "text/plain": [
              "array(['0 MXN', '0', '853 MXN', '800 MXN', '1 MXN', '3700 MXN',\n",
              "       '2000 MXN', '1200 MXN', '2500 MXN', '4 MXN', '4000 MXN',\n",
              "       '1500 MXN', '2900 MXN', '3900 MXN', '3000 MXN'], dtype=object)"
            ]
          },
          "metadata": {},
          "execution_count": 405
        }
      ]
    },
    {
      "cell_type": "code",
      "source": [
        "data_cdmx['monthly_fee'] = data_cdmx['monthly_fee'].apply(lambda x: int(re.search(r'\\d+', x).group()))\n",
        "data_cdmx['monthly_fee'].unique()"
      ],
      "metadata": {
        "colab": {
          "base_uri": "https://localhost:8080/"
        },
        "id": "phGTMtJTUX1M",
        "outputId": "21e71a92-f4d2-4686-d386-ec1f6cd6c998"
      },
      "execution_count": 406,
      "outputs": [
        {
          "output_type": "execute_result",
          "data": {
            "text/plain": [
              "array([   0,  853,  800,    1, 3700, 2000, 1200, 2500,    4, 4000, 1500,\n",
              "       2900, 3900, 3000])"
            ]
          },
          "metadata": {},
          "execution_count": 406
        }
      ]
    },
    {
      "cell_type": "markdown",
      "source": [
        "### ``apartments_per_floor`` (completar valores nulos)"
      ],
      "metadata": {
        "id": "3na_EikWXQg6"
      }
    },
    {
      "cell_type": "code",
      "source": [
        "# Falta el caso para cuando solo hay un apartamento por piso\n",
        "df.iloc[:,25].unique()"
      ],
      "metadata": {
        "colab": {
          "base_uri": "https://localhost:8080/"
        },
        "id": "P0VRZ4qIXPtG",
        "outputId": "c80c63a5-e10a-4f3c-9001-ea696f203cc0"
      },
      "execution_count": 413,
      "outputs": [
        {
          "output_type": "execute_result",
          "data": {
            "text/plain": [
              "array([nan,  2.,  7.,  3.,  4.,  1.,  5.])"
            ]
          },
          "metadata": {},
          "execution_count": 413
        }
      ]
    },
    {
      "cell_type": "code",
      "source": [
        "# Rellenamos los valores nulos con un 1\n",
        "data_cdmx[\"apartments_per_floor\"] = df[\"apartments_per_floor\"].fillna(1)\n",
        "data_cdmx[\"apartments_per_floor\"].unique()"
      ],
      "metadata": {
        "colab": {
          "base_uri": "https://localhost:8080/"
        },
        "id": "tbn7s8B-Xr90",
        "outputId": "0356b5cc-54f0-451c-c033-3de239168ea8"
      },
      "execution_count": 414,
      "outputs": [
        {
          "output_type": "execute_result",
          "data": {
            "text/plain": [
              "array([1., 2., 7., 3., 4., 5.])"
            ]
          },
          "metadata": {},
          "execution_count": 414
        }
      ]
    },
    {
      "cell_type": "markdown",
      "source": [],
      "metadata": {
        "id": "rVhCKkauYMXH"
      }
    },
    {
      "cell_type": "code",
      "source": [
        "df.iloc[:,26].value_counts()"
      ],
      "metadata": {
        "colab": {
          "base_uri": "https://localhost:8080/"
        },
        "id": "DGb-xZLQXPz0",
        "outputId": "74740ee0-029a-43d6-baa8-148b320b0fbd"
      },
      "execution_count": 419,
      "outputs": [
        {
          "output_type": "execute_result",
          "data": {
            "text/plain": [
              "Frente          12\n",
              "Interno          5\n",
              "Contrafrente     3\n",
              "Name: disposition, dtype: int64"
            ]
          },
          "metadata": {},
          "execution_count": 419
        }
      ]
    },
    {
      "cell_type": "code",
      "source": [],
      "metadata": {
        "id": "135gGvJqYKwZ"
      },
      "execution_count": null,
      "outputs": []
    },
    {
      "cell_type": "code",
      "source": [
        "# df.iloc[:,9].value_counts()\n",
        "df.info()"
      ],
      "metadata": {
        "colab": {
          "base_uri": "https://localhost:8080/"
        },
        "id": "V-R2SLZ3tPRR",
        "outputId": "014f5dec-2a90-41f3-816b-37f099130b61"
      },
      "execution_count": 407,
      "outputs": [
        {
          "output_type": "stream",
          "name": "stdout",
          "text": [
            "<class 'pandas.core.frame.DataFrame'>\n",
            "RangeIndex: 981 entries, 0 to 980\n",
            "Data columns (total 35 columns):\n",
            " #   Column                Non-Null Count  Dtype  \n",
            "---  ------                --------------  -----  \n",
            " 0   main_name             981 non-null    object \n",
            " 1   subtitle              981 non-null    object \n",
            " 2   link                  981 non-null    object \n",
            " 3   location              981 non-null    object \n",
            " 4   price                 981 non-null    object \n",
            " 5   attributes            981 non-null    object \n",
            " 6   timestamp             981 non-null    object \n",
            " 7   id                    981 non-null    int64  \n",
            " 8   address               702 non-null    object \n",
            " 9   since                 981 non-null    object \n",
            " 10  description           981 non-null    object \n",
            " 11  vendor                981 non-null    object \n",
            " 12  lat                   981 non-null    float64\n",
            " 13  lon                   981 non-null    float64\n",
            " 14  price_mod             981 non-null    float64\n",
            " 15  price_currency        981 non-null    object \n",
            " 16  since_period          981 non-null    object \n",
            " 17  since_value           981 non-null    int64  \n",
            " 18  days_on_site          981 non-null    float64\n",
            " 19  amenities             504 non-null    float64\n",
            " 20  age_in_years          981 non-null    float64\n",
            " 21  bathrooms             981 non-null    float64\n",
            " 22  cellars               52 non-null     float64\n",
            " 23  num_floors            84 non-null     float64\n",
            " 24  monthly_fee           128 non-null    object \n",
            " 25  apartments_per_floor  15 non-null     float64\n",
            " 26  disposition           20 non-null     object \n",
            " 27  parking_lots          981 non-null    int64  \n",
            " 28  floor_situated        24 non-null     float64\n",
            " 29  orientation           8 non-null      object \n",
            " 30  num_bedrooms          981 non-null    float64\n",
            " 31  department_type       39 non-null     object \n",
            " 32  m2                    981 non-null    float64\n",
            " 33  final_price           981 non-null    float64\n",
            " 34  price_square_meter    981 non-null    float64\n",
            "dtypes: float64(15), int64(3), object(17)\n",
            "memory usage: 268.4+ KB\n"
          ]
        }
      ]
    },
    {
      "cell_type": "code",
      "source": [],
      "metadata": {
        "id": "eBBfV8VJtb3m"
      },
      "execution_count": 407,
      "outputs": []
    }
  ]
}